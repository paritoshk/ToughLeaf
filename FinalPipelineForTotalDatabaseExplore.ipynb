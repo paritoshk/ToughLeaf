{
 "cells": [
  {
   "cell_type": "markdown",
   "id": "improved-masters",
   "metadata": {},
   "source": [
    "# Import modules"
   ]
  },
  {
   "cell_type": "code",
   "execution_count": 1,
   "id": "defined-african",
   "metadata": {},
   "outputs": [],
   "source": [
    "import numpy as np\n",
    "import pandas as pd\n",
    "from pandas import DataFrame, Series  # for convenience\n",
    "import scipy\n",
    "from scipy import stats\n",
    "import scipy.fftpack\n",
    "import re\n",
    "import glob\n",
    "import copy\n",
    "import os\n",
    "import matplotlib.pyplot as plt\n",
    "import xlrd\n",
    "import nltk\n",
    "import unicodedata\n",
    "import re\n",
    "from collections import Counter\n",
    "from nltk.collocations import *\n",
    "bigram_measures = nltk.collocations.BigramAssocMeasures()\n",
    "trigram_measures = nltk.collocations.TrigramAssocMeasures()\n",
    "from nltk.tokenize import word_tokenize\n",
    "from nltk.tag import pos_tag"
   ]
  },
  {
   "cell_type": "markdown",
   "id": "d35b7b89",
   "metadata": {},
   "source": [
    "# Make you own report using Datapane!"
   ]
  },
  {
   "cell_type": "code",
   "execution_count": 1,
   "id": "8b6e74c6",
   "metadata": {},
   "outputs": [
    {
     "name": "stdout",
     "output_type": "stream",
     "text": [
      "\u001b[32mConnected successfully to https://datapane.com as paritosh3\u001b[0m\r\n"
     ]
    }
   ],
   "source": [
    "import datapane\n",
    "!datapane login --token=08e35f58aac78aeba4755572613be6f5dc331b5e"
   ]
  },
  {
   "cell_type": "code",
   "execution_count": 2,
   "id": "2d3dd3a1",
   "metadata": {
    "scrolled": true
   },
   "outputs": [
    {
     "name": "stderr",
     "output_type": "stream",
     "text": [
      "Bokeh version 2.4.1 is not supported, these plots may not display correctly, please install version ~=2.2.0\n"
     ]
    },
    {
     "data": {
      "text/markdown": [
       "Uploading report and associated data - *please wait...*"
      ],
      "text/plain": [
       "<IPython.core.display.Markdown object>"
      ]
     },
     "metadata": {},
     "output_type": "display_data"
    },
    {
     "data": {
      "text/markdown": [
       "Your report only contains a single element - did you know you can include additional plots, tables and text in a single report? More info <a href='https://docs.datapane.com/reports/blocks/layout-pages-and-selects' target='_blank'>here</a>"
      ],
      "text/plain": [
       "<IPython.core.display.Markdown object>"
      ]
     },
     "metadata": {},
     "output_type": "display_data"
    },
    {
     "data": {
      "text/markdown": [
       "Report successfully uploaded. View and share your report <a href='https://datapane.com/u/paritosh3/reports/J35y1x3/my-example-report/' target='_blank'>here</a>, or edit your report <a href='https://datapane.com/u/paritosh3/reports/J35y1x3/my-example-report/edit/' target='_blank'>here</a>."
      ],
      "text/plain": [
       "<IPython.core.display.Markdown object>"
      ]
     },
     "metadata": {},
     "output_type": "display_data"
    }
   ],
   "source": [
    "import altair as alt\n",
    "from vega_datasets import data\n",
    "import datapane as dp\n",
    "\n",
    "df = data.cars()\n",
    "\n",
    "plot1 = alt.Chart(df).mark_circle(size=60).encode(\n",
    "    x='Horsepower', y='Miles_per_Gallon', color='Origin',\n",
    "    tooltip=['Name', 'Origin', 'Horsepower', 'Miles_per_Gallon']\n",
    ").interactive()\n",
    "dp.Report(\n",
    "    dp.Plot(plot1),\n",
    "    dp.DataTable(df)\n",
    ").upload(name=\"My example report\")"
   ]
  },
  {
   "cell_type": "code",
   "execution_count": 14,
   "id": "c051e9d3",
   "metadata": {},
   "outputs": [
    {
     "data": {
      "text/plain": [
       "'5.0.0'"
      ]
     },
     "execution_count": 14,
     "metadata": {},
     "output_type": "execute_result"
    }
   ],
   "source": [
    "import pyarrow\n",
    "pyarrow.__version__"
   ]
  },
  {
   "cell_type": "code",
   "execution_count": null,
   "id": "bf08bd9b",
   "metadata": {},
   "outputs": [],
   "source": [
    "!pip install spacy"
   ]
  },
  {
   "cell_type": "code",
   "execution_count": 2,
   "id": "varied-harbor",
   "metadata": {},
   "outputs": [
    {
     "ename": "ModuleNotFoundError",
     "evalue": "No module named 'spacy'",
     "output_type": "error",
     "traceback": [
      "\u001b[0;31m---------------------------------------------------------------------------\u001b[0m",
      "\u001b[0;31mModuleNotFoundError\u001b[0m                       Traceback (most recent call last)",
      "\u001b[0;32m/var/folders/qh/mr12tldn3g76pnlklr517bsm0000gn/T/ipykernel_6252/824484377.py\u001b[0m in \u001b[0;36m<module>\u001b[0;34m\u001b[0m\n\u001b[0;32m----> 1\u001b[0;31m \u001b[0;32mimport\u001b[0m \u001b[0mspacy\u001b[0m\u001b[0;34m\u001b[0m\u001b[0;34m\u001b[0m\u001b[0m\n\u001b[0m\u001b[1;32m      2\u001b[0m \u001b[0mnlp\u001b[0m \u001b[0;34m=\u001b[0m \u001b[0mspacy\u001b[0m\u001b[0;34m.\u001b[0m\u001b[0mload\u001b[0m\u001b[0;34m(\u001b[0m\u001b[0;34m\"en_core_web_lg\"\u001b[0m\u001b[0;34m)\u001b[0m\u001b[0;34m\u001b[0m\u001b[0;34m\u001b[0m\u001b[0m\n\u001b[1;32m      3\u001b[0m \u001b[0;32mimport\u001b[0m \u001b[0men_core_web_lg\u001b[0m\u001b[0;34m\u001b[0m\u001b[0;34m\u001b[0m\u001b[0m\n\u001b[1;32m      4\u001b[0m \u001b[0mnlp\u001b[0m \u001b[0;34m=\u001b[0m \u001b[0men_core_web_lg\u001b[0m\u001b[0;34m.\u001b[0m\u001b[0mload\u001b[0m\u001b[0;34m(\u001b[0m\u001b[0;34m)\u001b[0m\u001b[0;34m\u001b[0m\u001b[0;34m\u001b[0m\u001b[0m\n\u001b[1;32m      5\u001b[0m \u001b[0;32mfrom\u001b[0m \u001b[0mbs4\u001b[0m \u001b[0;32mimport\u001b[0m \u001b[0mBeautifulSoup\u001b[0m\u001b[0;34m\u001b[0m\u001b[0;34m\u001b[0m\u001b[0m\n",
      "\u001b[0;31mModuleNotFoundError\u001b[0m: No module named 'spacy'"
     ]
    }
   ],
   "source": [
    "import spacy\n",
    "nlp = spacy.load(\"en_core_web_lg\")\n",
    "import en_core_web_lg\n",
    "nlp = en_core_web_lg.load()\n",
    "from bs4 import BeautifulSoup\n",
    "from html import unescape\n",
    "\n",
    "from tqdm import tqdm"
   ]
  },
  {
   "cell_type": "markdown",
   "id": "hundred-corpus",
   "metadata": {},
   "source": [
    "# Define essential functions"
   ]
  },
  {
   "cell_type": "code",
   "execution_count": 3,
   "id": "italic-robinson",
   "metadata": {},
   "outputs": [],
   "source": [
    "#creat string from list and keep unique\n",
    "def strsetoflist(list_pd_col):\n",
    "    list_pd_col = list(set(list_pd_col))\n",
    "    strlist = ' '.join(list_pd_col)\n",
    "    return strlist"
   ]
  },
  {
   "cell_type": "code",
   "execution_count": 4,
   "id": "digital-thousand",
   "metadata": {},
   "outputs": [],
   "source": [
    "def remove_null(pd_row_list):\n",
    "    pd_row_list = [x for x in pd_row_list if str(x) != 'nan']\n",
    "    return(pd_row_list)"
   ]
  },
  {
   "cell_type": "code",
   "execution_count": 5,
   "id": "small-mathematics",
   "metadata": {},
   "outputs": [],
   "source": [
    "#drop duplicates in pd row with strings\n",
    "def unique_type(pd_row):\n",
    "    \n",
    "    set_list = []\n",
    "    str_list = ' '\n",
    "    for i in pd_row.split(','):\n",
    "        place_holder_list = i.split()\n",
    "        for i in place_holder_list:\n",
    "            set_list.append(i)\n",
    "    return list(set(set_list))"
   ]
  },
  {
   "cell_type": "code",
   "execution_count": 6,
   "id": "sublime-penalty",
   "metadata": {},
   "outputs": [],
   "source": [
    "def basic_cleanandcaptialize(lisofstrings):\n",
    "    return_list = []\n",
    "    for string in (lisofstrings):\n",
    "        string = \" \".join(basic_clean(string))\n",
    "        return_list.append((string.title()))\n",
    "    return return_list\n",
    "                           "
   ]
  },
  {
   "cell_type": "code",
   "execution_count": 7,
   "id": "corrected-revolution",
   "metadata": {},
   "outputs": [],
   "source": [
    "def basic_clean(text):\n",
    "    \"\"\"\"\n",
    "      A simple function to clean up the data. All the words that\n",
    "      are not designated as a stop word is then lemmatized after\n",
    "      encoding and basic regex parsing are performed.\n",
    "      \"\"\"\n",
    "    wnl = nltk.stem.WordNetLemmatizer()\n",
    "    stopwords = nltk.corpus.stopwords.words('english') \n",
    "    text = (unicodedata.normalize('NFKD', text)\n",
    "    .encode('ascii', 'ignore')\n",
    "    .decode('utf-8', 'ignore')\n",
    "    .lower())\n",
    "    words = re.sub(r'[^\\w\\s]', '', text).split()\n",
    "    return [wnl.lemmatize(word.title()) for word in words if word not in stopwords]"
   ]
  },
  {
   "cell_type": "markdown",
   "id": "agricultural-davis",
   "metadata": {},
   "source": [
    "# Load and explore dataset"
   ]
  },
  {
   "cell_type": "code",
   "execution_count": 8,
   "id": "everyday-force",
   "metadata": {},
   "outputs": [],
   "source": [
    "df1 = pd.read_excel(r\"C:\\Users\\PARITOSHCHANDRASHEKH\\Desktop\\ToughLeaf\\SDVOB_Listing_01_15_2022.xlsx\")"
   ]
  },
  {
   "cell_type": "code",
   "execution_count": 9,
   "id": "greatest-sacramento",
   "metadata": {},
   "outputs": [
    {
     "data": {
      "text/html": [
       "<div>\n",
       "<style scoped>\n",
       "    .dataframe tbody tr th:only-of-type {\n",
       "        vertical-align: middle;\n",
       "    }\n",
       "\n",
       "    .dataframe tbody tr th {\n",
       "        vertical-align: top;\n",
       "    }\n",
       "\n",
       "    .dataframe thead th {\n",
       "        text-align: right;\n",
       "    }\n",
       "</style>\n",
       "<table border=\"1\" class=\"dataframe\">\n",
       "  <thead>\n",
       "    <tr style=\"text-align: right;\">\n",
       "      <th></th>\n",
       "      <th>ControlNumber</th>\n",
       "      <th>Classification</th>\n",
       "      <th>Categories</th>\n",
       "      <th>About</th>\n",
       "      <th>NAICS Code(s)</th>\n",
       "      <th>Key Words</th>\n",
       "      <th>Business Size</th>\n",
       "      <th>Counties Served</th>\n",
       "      <th>Business Name</th>\n",
       "      <th>NYS Vendor ID Number</th>\n",
       "      <th>...</th>\n",
       "      <th>City</th>\n",
       "      <th>State</th>\n",
       "      <th>Zip</th>\n",
       "      <th>County Located</th>\n",
       "      <th>Home Region</th>\n",
       "      <th>Primary SDV Name</th>\n",
       "      <th>Contact Email Address</th>\n",
       "      <th>Phone Number</th>\n",
       "      <th>Business Webpage</th>\n",
       "      <th>NYS Centralized Contract Titles</th>\n",
       "    </tr>\n",
       "  </thead>\n",
       "  <tbody>\n",
       "    <tr>\n",
       "      <th>0</th>\n",
       "      <td>141001</td>\n",
       "      <td>Construction Professional Services</td>\n",
       "      <td>Architectural, Engineering &amp; Surveying -- Envi...</td>\n",
       "      <td>Civil Engineering - Design and Construction</td>\n",
       "      <td>541310 -- 541330 -- 541340 -- 541370 -- 541620...</td>\n",
       "      <td>Engineer, Engineering, Architect, Architecture...</td>\n",
       "      <td>$1,000,000 - $4,999,999</td>\n",
       "      <td>statewide</td>\n",
       "      <td>Tolman Engineering, Architecture, &amp; Surveying,...</td>\n",
       "      <td>1100124550</td>\n",
       "      <td>...</td>\n",
       "      <td>Jamestown</td>\n",
       "      <td>New York</td>\n",
       "      <td>14701</td>\n",
       "      <td>Chautauqua</td>\n",
       "      <td>Western New York</td>\n",
       "      <td>Tolman , Rex</td>\n",
       "      <td>rtolman@patriot-dc.com</td>\n",
       "      <td>(716) 484-1366</td>\n",
       "      <td>www.patriot-dc.com</td>\n",
       "      <td>NaN</td>\n",
       "    </tr>\n",
       "    <tr>\n",
       "      <th>1</th>\n",
       "      <td>141005</td>\n",
       "      <td>Consulting &amp; Other Services</td>\n",
       "      <td>Financial</td>\n",
       "      <td>Investment Banking, Broker Dealer</td>\n",
       "      <td>523110 -- 523120 -- 523920 -- 523930 -- 921130</td>\n",
       "      <td>Investments, Financial Advisor, Broker Dealer,...</td>\n",
       "      <td>Over $5,000,000</td>\n",
       "      <td>statewide</td>\n",
       "      <td>Mischler Financial Group, Inc.</td>\n",
       "      <td>1100137859</td>\n",
       "      <td>...</td>\n",
       "      <td>Corona Del Mar</td>\n",
       "      <td>California</td>\n",
       "      <td>92625</td>\n",
       "      <td>Out-Of-State</td>\n",
       "      <td>Out-Of-State</td>\n",
       "      <td>Chamberlain , Dean</td>\n",
       "      <td>dholmes@mischlerfinancial.com</td>\n",
       "      <td>(949) 720-0640</td>\n",
       "      <td>mischlerfinancial.com</td>\n",
       "      <td>NaN</td>\n",
       "    </tr>\n",
       "    <tr>\n",
       "      <th>2</th>\n",
       "      <td>141009</td>\n",
       "      <td>Construction</td>\n",
       "      <td>Construction Vertical: Building Construction; ...</td>\n",
       "      <td>Roofing, Exterior, and Interior</td>\n",
       "      <td>238120 -- 238160 -- 238170 -- 238190 -- 238390...</td>\n",
       "      <td>Roofing, Masonry, Waterproofing, Concrete, Bui...</td>\n",
       "      <td>$500,000 - $999,999</td>\n",
       "      <td>Bronx -- Kings -- Nassau -- Queens -- Richmond...</td>\n",
       "      <td>Graham Restoration Co, Inc.</td>\n",
       "      <td>1100134852</td>\n",
       "      <td>...</td>\n",
       "      <td>Maspeth</td>\n",
       "      <td>New York</td>\n",
       "      <td>11378</td>\n",
       "      <td>Queens</td>\n",
       "      <td>New York City</td>\n",
       "      <td>Graham , Joseph</td>\n",
       "      <td>grahamrest365@aol.com</td>\n",
       "      <td>(917) 642-3427</td>\n",
       "      <td>grcny.com</td>\n",
       "      <td>NaN</td>\n",
       "    </tr>\n",
       "    <tr>\n",
       "      <th>3</th>\n",
       "      <td>141010</td>\n",
       "      <td>Consulting &amp; Other Services</td>\n",
       "      <td>Administrative &amp; Technical -- Information Tech...</td>\n",
       "      <td>Integrated Support Solutions</td>\n",
       "      <td>488111 -- 541511 -- 541512 -- 541614 -- 541690</td>\n",
       "      <td>Logistics, Consulting, Engineering Services, M...</td>\n",
       "      <td>$100,000 - $499,999</td>\n",
       "      <td>statewide</td>\n",
       "      <td>Navaid Technical Services, LLC</td>\n",
       "      <td>1100137310</td>\n",
       "      <td>...</td>\n",
       "      <td>Odessa</td>\n",
       "      <td>Florida</td>\n",
       "      <td>33556</td>\n",
       "      <td>Out-Of-State</td>\n",
       "      <td>Out-Of-State</td>\n",
       "      <td>LaMacchia , Joseph</td>\n",
       "      <td>jlamacchia@navaidtech.com; joseph.lamacchia@ve...</td>\n",
       "      <td>(315) 283-5151</td>\n",
       "      <td>navaidtech.com</td>\n",
       "      <td>NaN</td>\n",
       "    </tr>\n",
       "    <tr>\n",
       "      <th>4</th>\n",
       "      <td>141012</td>\n",
       "      <td>Construction</td>\n",
       "      <td>Construction Vertical: Building Construction; ...</td>\n",
       "      <td>General Contractor</td>\n",
       "      <td>236118 -- 236210 -- 236220 -- 238130 -- 238350...</td>\n",
       "      <td>General Contractor, Rough Carpentry, Finish Ca...</td>\n",
       "      <td>$1,000,000 - $4,999,999</td>\n",
       "      <td>Bronx -- Dutchess -- New York -- Orange -- Roc...</td>\n",
       "      <td>Nordstrom Contracting &amp; Consulting Corp.</td>\n",
       "      <td>1100113070</td>\n",
       "      <td>...</td>\n",
       "      <td>Pomona</td>\n",
       "      <td>New York</td>\n",
       "      <td>10970</td>\n",
       "      <td>Rockland</td>\n",
       "      <td>Mid-Hudson</td>\n",
       "      <td>Nordstrom , Oscar</td>\n",
       "      <td>michael@nordstromcontracting.com</td>\n",
       "      <td>(914) 269-4343</td>\n",
       "      <td>nordstromcontracting.com</td>\n",
       "      <td>Administrative Services (Statewide)</td>\n",
       "    </tr>\n",
       "  </tbody>\n",
       "</table>\n",
       "<p>5 rows × 21 columns</p>\n",
       "</div>"
      ],
      "text/plain": [
       "   ControlNumber                      Classification  \\\n",
       "0         141001  Construction Professional Services   \n",
       "1         141005         Consulting & Other Services   \n",
       "2         141009                        Construction   \n",
       "3         141010         Consulting & Other Services   \n",
       "4         141012                        Construction   \n",
       "\n",
       "                                          Categories  \\\n",
       "0  Architectural, Engineering & Surveying -- Envi...   \n",
       "1                                          Financial   \n",
       "2  Construction Vertical: Building Construction; ...   \n",
       "3  Administrative & Technical -- Information Tech...   \n",
       "4  Construction Vertical: Building Construction; ...   \n",
       "\n",
       "                                         About  \\\n",
       "0  Civil Engineering - Design and Construction   \n",
       "1            Investment Banking, Broker Dealer   \n",
       "2              Roofing, Exterior, and Interior   \n",
       "3                 Integrated Support Solutions   \n",
       "4                           General Contractor   \n",
       "\n",
       "                                       NAICS Code(s)  \\\n",
       "0  541310 -- 541330 -- 541340 -- 541370 -- 541620...   \n",
       "1     523110 -- 523120 -- 523920 -- 523930 -- 921130   \n",
       "2  238120 -- 238160 -- 238170 -- 238190 -- 238390...   \n",
       "3     488111 -- 541511 -- 541512 -- 541614 -- 541690   \n",
       "4  236118 -- 236210 -- 236220 -- 238130 -- 238350...   \n",
       "\n",
       "                                           Key Words            Business Size  \\\n",
       "0  Engineer, Engineering, Architect, Architecture...  $1,000,000 - $4,999,999   \n",
       "1  Investments, Financial Advisor, Broker Dealer,...          Over $5,000,000   \n",
       "2  Roofing, Masonry, Waterproofing, Concrete, Bui...      $500,000 - $999,999   \n",
       "3  Logistics, Consulting, Engineering Services, M...      $100,000 - $499,999   \n",
       "4  General Contractor, Rough Carpentry, Finish Ca...  $1,000,000 - $4,999,999   \n",
       "\n",
       "                                     Counties Served  \\\n",
       "0                                          statewide   \n",
       "1                                          statewide   \n",
       "2  Bronx -- Kings -- Nassau -- Queens -- Richmond...   \n",
       "3                                          statewide   \n",
       "4  Bronx -- Dutchess -- New York -- Orange -- Roc...   \n",
       "\n",
       "                                       Business Name  NYS Vendor ID Number  \\\n",
       "0  Tolman Engineering, Architecture, & Surveying,...            1100124550   \n",
       "1                     Mischler Financial Group, Inc.            1100137859   \n",
       "2                        Graham Restoration Co, Inc.            1100134852   \n",
       "3                     Navaid Technical Services, LLC            1100137310   \n",
       "4           Nordstrom Contracting & Consulting Corp.            1100113070   \n",
       "\n",
       "   ...            City       State    Zip County Located       Home Region  \\\n",
       "0  ...       Jamestown    New York  14701     Chautauqua  Western New York   \n",
       "1  ...  Corona Del Mar  California  92625   Out-Of-State      Out-Of-State   \n",
       "2  ...         Maspeth    New York  11378         Queens     New York City   \n",
       "3  ...          Odessa     Florida  33556   Out-Of-State      Out-Of-State   \n",
       "4  ...          Pomona    New York  10970       Rockland        Mid-Hudson   \n",
       "\n",
       "     Primary SDV Name                              Contact Email Address  \\\n",
       "0        Tolman , Rex                             rtolman@patriot-dc.com   \n",
       "1  Chamberlain , Dean                      dholmes@mischlerfinancial.com   \n",
       "2     Graham , Joseph                              grahamrest365@aol.com   \n",
       "3  LaMacchia , Joseph  jlamacchia@navaidtech.com; joseph.lamacchia@ve...   \n",
       "4   Nordstrom , Oscar                   michael@nordstromcontracting.com   \n",
       "\n",
       "     Phone Number          Business Webpage  \\\n",
       "0  (716) 484-1366        www.patriot-dc.com   \n",
       "1  (949) 720-0640     mischlerfinancial.com   \n",
       "2  (917) 642-3427                 grcny.com   \n",
       "3  (315) 283-5151            navaidtech.com   \n",
       "4  (914) 269-4343  nordstromcontracting.com   \n",
       "\n",
       "       NYS Centralized Contract Titles  \n",
       "0                                  NaN  \n",
       "1                                  NaN  \n",
       "2                                  NaN  \n",
       "3                                  NaN  \n",
       "4  Administrative Services (Statewide)  \n",
       "\n",
       "[5 rows x 21 columns]"
      ]
     },
     "execution_count": 9,
     "metadata": {},
     "output_type": "execute_result"
    }
   ],
   "source": [
    "df1.head()"
   ]
  },
  {
   "cell_type": "code",
   "execution_count": 11,
   "id": "molecular-valuation",
   "metadata": {},
   "outputs": [
    {
     "data": {
      "text/plain": [
       "Index(['ControlNumber', 'Classification', 'Categories', 'About',\n",
       "       'NAICS Code(s)', 'Key Words', 'Business Size', 'Counties Served',\n",
       "       'Business Name', 'NYS Vendor ID Number', 'Street', 'City', 'State',\n",
       "       'Zip', 'County Located', 'Home Region', 'Primary SDV Name',\n",
       "       'Contact Email Address', 'Phone Number', 'Business Webpage',\n",
       "       'NYS Centralized Contract Titles'],\n",
       "      dtype='object')"
      ]
     },
     "execution_count": 11,
     "metadata": {},
     "output_type": "execute_result"
    }
   ],
   "source": [
    "df1.columns"
   ]
  },
  {
   "cell_type": "markdown",
   "id": "manufactured-cornwall",
   "metadata": {},
   "source": [
    "# Determine columns that signal capablities"
   ]
  },
  {
   "cell_type": "markdown",
   "id": "enormous-wholesale",
   "metadata": {},
   "source": [
    "## Clean"
   ]
  },
  {
   "cell_type": "code",
   "execution_count": 12,
   "id": "corresponding-archives",
   "metadata": {
    "scrolled": true
   },
   "outputs": [
    {
     "data": {
      "text/plain": [
       "0      Architectural, Engineering & Surveying -- Envi...\n",
       "1                                              Financial\n",
       "2      Construction Vertical: Building Construction; ...\n",
       "3      Administrative & Technical -- Information Tech...\n",
       "4      Construction Vertical: Building Construction; ...\n",
       "                             ...                        \n",
       "931                                        Miscellaneous\n",
       "932    Construction Horizontal: Highways & Roadways; ...\n",
       "933                                        Miscellaneous\n",
       "934                       Medical & Laboratory Equipment\n",
       "935    Administrative & Technical -- Medical & Labora...\n",
       "Name: Categories, Length: 936, dtype: object"
      ]
     },
     "execution_count": 12,
     "metadata": {},
     "output_type": "execute_result"
    }
   ],
   "source": [
    "df1['Categories'] #clean"
   ]
  },
  {
   "cell_type": "code",
   "execution_count": 13,
   "id": "gross-twins",
   "metadata": {},
   "outputs": [],
   "source": [
    "#df1['Categories'] = df1['Categories'].apply(basic_clean)"
   ]
  },
  {
   "cell_type": "code",
   "execution_count": 14,
   "id": "disabled-witness",
   "metadata": {},
   "outputs": [
    {
     "data": {
      "text/plain": [
       "0      Architectural, Engineering & Surveying -- Envi...\n",
       "1                                              Financial\n",
       "2      Construction Vertical: Building Construction; ...\n",
       "3      Administrative & Technical -- Information Tech...\n",
       "4      Construction Vertical: Building Construction; ...\n",
       "                             ...                        \n",
       "931                                        Miscellaneous\n",
       "932    Construction Horizontal: Highways & Roadways; ...\n",
       "933                                        Miscellaneous\n",
       "934                       Medical & Laboratory Equipment\n",
       "935    Administrative & Technical -- Medical & Labora...\n",
       "Name: Categories, Length: 936, dtype: object"
      ]
     },
     "execution_count": 14,
     "metadata": {},
     "output_type": "execute_result"
    }
   ],
   "source": [
    "df1['Categories']"
   ]
  },
  {
   "cell_type": "markdown",
   "id": "artificial-fields",
   "metadata": {},
   "source": [
    "## Combine and do biagram capablities"
   ]
  },
  {
   "cell_type": "code",
   "execution_count": 15,
   "id": "exceptional-happening",
   "metadata": {
    "scrolled": true
   },
   "outputs": [
    {
     "data": {
      "text/plain": [
       "0      Civil Engineering - Design and Construction\n",
       "1                Investment Banking, Broker Dealer\n",
       "2                  Roofing, Exterior, and Interior\n",
       "3                     Integrated Support Solutions\n",
       "4                               General Contractor\n",
       "                          ...                     \n",
       "931                           Marijuana Dispensary\n",
       "932                            General Contracting\n",
       "933                           Marijuana Dispensary\n",
       "934     Medical and Medical Equipment and Supplies\n",
       "935                       HVAC Testing and Service\n",
       "Name: About, Length: 936, dtype: object"
      ]
     },
     "execution_count": 15,
     "metadata": {},
     "output_type": "execute_result"
    }
   ],
   "source": [
    "df1['About']"
   ]
  },
  {
   "cell_type": "code",
   "execution_count": 16,
   "id": "arbitrary-wrong",
   "metadata": {
    "scrolled": false
   },
   "outputs": [
    {
     "data": {
      "text/plain": [
       "0      Engineer, Engineering, Architect, Architecture...\n",
       "1      Investments, Financial Advisor, Broker Dealer,...\n",
       "2      Roofing, Masonry, Waterproofing, Concrete, Bui...\n",
       "3      Logistics, Consulting, Engineering Services, M...\n",
       "4      General Contractor, Rough Carpentry, Finish Ca...\n",
       "                             ...                        \n",
       "931    Medical Recreational, Marijuana Dispensary, Di...\n",
       "932          Masonry, Selective Demo, General Contractor\n",
       "933    Marijuana Dispensary, Online Retail Sales, Dir...\n",
       "934    Medical Equipment, Medical Supplies, Surgical ...\n",
       "935    Cleanroom Certification, Laboratory Equipment ...\n",
       "Name: Key Words, Length: 936, dtype: object"
      ]
     },
     "execution_count": 16,
     "metadata": {},
     "output_type": "execute_result"
    }
   ],
   "source": [
    "df1['Key Words']"
   ]
  },
  {
   "cell_type": "code",
   "execution_count": 17,
   "id": "checked-builder",
   "metadata": {},
   "outputs": [],
   "source": [
    "data =[]\n",
    "for num in range(len(df1['About'])):\n",
    "    all_tags_master = str(df1['About'][num]+\" \" + df1['Key Words'][num]+\" \"+df1['Categories'][num])\n",
    "    #all_tags_master = remove_punc(all_tags_master.lower())\n",
    "    data.append(all_tags_master)"
   ]
  },
  {
   "cell_type": "code",
   "execution_count": 20,
   "id": "chinese-lying",
   "metadata": {},
   "outputs": [],
   "source": [
    "ADDITIONAL_STOPWORDS = []"
   ]
  },
  {
   "cell_type": "code",
   "execution_count": 21,
   "id": "pressed-istanbul",
   "metadata": {},
   "outputs": [],
   "source": [
    "from nltk.corpus import stopwords\n",
    "stoplist = stopwords.words('english') + ['though'] + ADDITIONAL_STOPWORDS"
   ]
  },
  {
   "cell_type": "markdown",
   "id": "complicated-nursery",
   "metadata": {},
   "source": [
    "### name entity - https://towardsdatascience.com/named-entity-recognition-with-nltk-and-spacy-8c4a7d88e7da"
   ]
  },
  {
   "cell_type": "code",
   "execution_count": 22,
   "id": "bacterial-crown",
   "metadata": {},
   "outputs": [],
   "source": [
    "def preprocess(sent):\n",
    "    sent = nltk.word_tokenize(sent)\n",
    "    sent = nltk.pos_tag(sent)\n",
    "    return sent"
   ]
  },
  {
   "cell_type": "code",
   "execution_count": 26,
   "id": "tender-electric",
   "metadata": {
    "scrolled": true
   },
   "outputs": [],
   "source": [
    "#nltk.download('punkt')"
   ]
  },
  {
   "cell_type": "code",
   "execution_count": 25,
   "id": "indonesian-sandwich",
   "metadata": {},
   "outputs": [],
   "source": [
    "#nltk.download('averaged_perceptron_tagger')"
   ]
  },
  {
   "cell_type": "markdown",
   "id": "virtual-tyler",
   "metadata": {},
   "source": [
    "Our chunk pattern consists of one rule, that a noun phrase, NP, should be formed whenever the chunker finds an optional determiner, DT, followed by any number of adjectives, JJ, and then a noun, NN."
   ]
  },
  {
   "cell_type": "code",
   "execution_count": 28,
   "id": "sonic-cartoon",
   "metadata": {
    "scrolled": true
   },
   "outputs": [
    {
     "name": "stdout",
     "output_type": "stream",
     "text": [
      "(S\n",
      "  Onsite/NNP\n",
      "  Construction/NNP\n",
      "  Fire/NNP\n",
      "  Safety/NNP\n",
      "  Management/NNP\n",
      "  and/CC\n",
      "  Consulting/NNP\n",
      "  Commercial/NNP\n",
      "  Hotel/NNP\n",
      "  Building/NNP\n",
      "  ,/,\n",
      "  Fire/NNP\n",
      "  Safety/NNP\n",
      "  Management/NNP\n",
      "  and/CC\n",
      "  Consulting/NNP\n",
      "  ,/,\n",
      "  Home/NNP\n",
      "  Improvement/NNP\n",
      "  with/IN\n",
      "  Alteration/NNP\n",
      "  ,/,\n",
      "  Addition/NNP\n",
      "  and/CC\n",
      "  Renovation/NNP\n",
      "  for/IN\n",
      "  Single-Family/NNP\n",
      "  ,/,\n",
      "  Multifamily/NNP\n",
      "  Houses/NNP\n",
      "  and/CC\n",
      "  Residential/NNP\n",
      "  Buildings/NNP\n",
      "  Safety/NNP\n",
      "  &/CC\n",
      "  Security/NNP)\n"
     ]
    }
   ],
   "source": [
    "pattern = 'NP: {<DT>?<JJ>*<NN>}'\n",
    "cp = nltk.RegexpParser(pattern)\n",
    "cs = cp.parse(sent)\n",
    "print(cs)"
   ]
  },
  {
   "cell_type": "markdown",
   "id": "superior-working",
   "metadata": {},
   "source": [
    "# Final Algorithm to make tags"
   ]
  },
  {
   "cell_type": "code",
   "execution_count": 25,
   "id": "duplicate-brand",
   "metadata": {
    "scrolled": false
   },
   "outputs": [
    {
     "name": "stderr",
     "output_type": "stream",
     "text": [
      "<ipython-input-25-62cbb885e0e4>:4: SettingWithCopyWarning: \n",
      "A value is trying to be set on a copy of a slice from a DataFrame\n",
      "\n",
      "See the caveats in the documentation: https://pandas.pydata.org/pandas-docs/stable/user_guide/indexing.html#returning-a-view-versus-a-copy\n",
      "  df1['Data_total_grams'][j] = df1['Data_total_grams'][j].split(sep=',')\n",
      "<ipython-input-25-62cbb885e0e4>:5: SettingWithCopyWarning: \n",
      "A value is trying to be set on a copy of a slice from a DataFrame\n",
      "\n",
      "See the caveats in the documentation: https://pandas.pydata.org/pandas-docs/stable/user_guide/indexing.html#returning-a-view-versus-a-copy\n",
      "  df1['Data_total_grams'][j] = basic_cleanandcaptialize(df1['Data_total_grams'][j])\n"
     ]
    }
   ],
   "source": [
    "df1['Data_total_grams'] = data\n",
    "#words_indices_dataframe = pd.DataFrame()\n",
    "for j in range(len(df1['Data_total_grams'])):\n",
    "    df1['Data_total_grams'][j] = df1['Data_total_grams'][j].split(sep=',')\n",
    "    df1['Data_total_grams'][j] = basic_cleanandcaptialize(df1['Data_total_grams'][j])\n",
    "    for p in range(len(df1['Data_total_grams'][j])):\n",
    "        #print(len(list_of_strings[p].strip()))\n",
    "        \n",
    "        q = (df1['Data_total_grams'][j][p].strip()).split()\n",
    "        \n",
    "        if len(q) > 1 and len(q)<5:\n",
    "            q= \" \".join(q)\n",
    "            df1['Data_total_grams'][j][p] = q\n",
    "        else:\n",
    "            finder = TrigramCollocationFinder.from_words(q)\n",
    "            finder1 = finder.apply_freq_filter(1)\n",
    "            list_oftuples = finder.nbest(trigram_measures.pmi, 15)[0:1]\n",
    "            df1['Data_total_grams'][j][p]  = basic_cleanandcaptialize([\" \".join(x) for x in list_oftuples])\n",
    "\n",
    "           #df1['Data_total_grams'][j][p] = q\n",
    "            #print(temp_listnew)\n",
    "                \n",
    "            \n"
   ]
  },
  {
   "cell_type": "markdown",
   "id": "functioning-lease",
   "metadata": {},
   "source": [
    "## CHECK the result (input random index)"
   ]
  },
  {
   "cell_type": "code",
   "execution_count": null,
   "id": "7d72260e",
   "metadata": {},
   "outputs": [],
   "source": []
  },
  {
   "cell_type": "code",
   "execution_count": 34,
   "id": "voluntary-might",
   "metadata": {},
   "outputs": [
    {
     "data": {
      "text/plain": [
       "[['Commercial Hotel Building'],\n",
       " 'Fire Safety Management Consulting',\n",
       " 'Home Improvement Alteration',\n",
       " 'Addition Renovation Singlefamily',\n",
       " ['Buildings Safety Security']]"
      ]
     },
     "execution_count": 34,
     "metadata": {},
     "output_type": "execute_result"
    }
   ],
   "source": [
    "df1['Data_total_grams'][900]"
   ]
  },
  {
   "cell_type": "markdown",
   "id": "included-heath",
   "metadata": {},
   "source": [
    "## EXPLORE NAME ENTITY RELATIONSHIP"
   ]
  },
  {
   "cell_type": "code",
   "execution_count": 32,
   "id": "decreased-penny",
   "metadata": {},
   "outputs": [],
   "source": [
    "sent = preprocess(\" \".join((df1['Data_total_grams'][900])[0]))"
   ]
  },
  {
   "cell_type": "code",
   "execution_count": 33,
   "id": "heard-small",
   "metadata": {},
   "outputs": [
    {
     "data": {
      "text/plain": [
       "[('Commercial', 'JJ'), ('Hotel', 'NNP'), ('Building', 'NNP')]"
      ]
     },
     "execution_count": 33,
     "metadata": {},
     "output_type": "execute_result"
    }
   ],
   "source": [
    "sent"
   ]
  },
  {
   "cell_type": "code",
   "execution_count": 35,
   "id": "continental-canal",
   "metadata": {},
   "outputs": [
    {
     "data": {
      "text/plain": [
       "'\"\"\\ndf1[\\'Data_total_grams\\'] = data\\n#words_indices_dataframe = pd.DataFrame()\\nfor j in range(len(df1[\\'Data_total_grams\\'])):\\n    df1[\\'Data_total_grams\\'][j] = df1[\\'Data_total_grams\\'][j].split(sep=\\',\\')\\n    finder = BigramCollocationFinder.from_words(df1[\\'Data_total_grams\\'][391].split())\\n    # only bigrams that appear 3+ times\\n    finder.apply_freq_filter(1)\\n    list_oftuples = finder.nbest(bigram_measures.pmi, 15)[0:2]\\n    df1[\\'Data_total_grams\\'][j]  = basic_cleanandcaptialize([\" \".join(x) for x in list_oftuples])\\n'"
      ]
     },
     "execution_count": 35,
     "metadata": {},
     "output_type": "execute_result"
    }
   ],
   "source": [
    "\"\"\"\"\" #EXtra code for review later\n",
    "df1['Data_total_grams'] = data\n",
    "#words_indices_dataframe = pd.DataFrame()\n",
    "for j in range(len(df1['Data_total_grams'])):\n",
    "    df1['Data_total_grams'][j] = df1['Data_total_grams'][j].split(sep=',')\n",
    "    finder = BigramCollocationFinder.from_words(df1['Data_total_grams'][391].split())\n",
    "    # only bigrams that appear 3+ times\n",
    "    finder.apply_freq_filter(1)\n",
    "    list_oftuples = finder.nbest(bigram_measures.pmi, 15)[0:2]\n",
    "    df1['Data_total_grams'][j]  = basic_cleanandcaptialize([\" \".join(x) for x in list_oftuples])\n",
    "\"\"\"\"\""
   ]
  },
  {
   "cell_type": "code",
   "execution_count": null,
   "id": "attractive-farmer",
   "metadata": {},
   "outputs": [],
   "source": [
    "   \"\"\"\"\" for p in range(len(df1['Data_total_grams'][j])):\n",
    "        #print(len(list_of_strings[p].strip()))\n",
    "        \n",
    "        q = (df1['Data_total_grams'][j][p].strip()).split()\n",
    "        \n",
    "        if len(q) > 1 and len(q)<5:\n",
    "            q= \" \".join(q)\n",
    "            df1['Data_total_grams'][j][p] = q\n",
    "        else:\n",
    "            finder.apply_freq_filter(1)\n",
    "\n",
    "#return the 10 n-grams with the highest PMI\n",
    "list_oftuples = finder.nbest(bigram_measures.pmi, 15)[0:2]\n",
    "list_ofstrings = basic_cleanandcaptialize([\" \".join(x) for x in list_oftuples])\n",
    "\n",
    "            finder = BigramCollocationFinder.from_words(q)\n",
    "            finder1 = finder.apply_freq_filter(1)\n",
    "            string_replace = ' '.join(finder1)\n",
    "            df1['Data_total_grams'][j][p] = string_replace\n",
    "           #df1['Data_total_grams'][j][p] = q\n",
    "            #print(temp_listnew)\n",
    "           \n",
    "           else:\n",
    "            finder = BigramCollocationFinder.from_words(q)\n",
    "            finder1 = finder.apply_freq_filter(1)\n",
    "            finder2 = finder.apply_freq_filter(2)\n",
    "            finder3 = finder.apply_freq_filter(0)\n",
    "            string_replace = ' '.join(finder1+finder2+finder3)\n",
    "            df1['Data_total_grams'][j][p] = string_replace\n",
    "                \n",
    "            \"\"\"\""
   ]
  },
  {
   "cell_type": "code",
   "execution_count": 183,
   "id": "rational-andrews",
   "metadata": {
    "scrolled": true
   },
   "outputs": [
    {
     "data": {
      "text/plain": [
       "0      Civil Engineering - Design and Construction En...\n",
       "1      Investment Banking, Broker Dealer Investments,...\n",
       "2      Roofing, Exterior, and Interior Roofing, Mason...\n",
       "3      Integrated Support Solutions Logistics, Consul...\n",
       "4      General Contractor General Contractor, Rough C...\n",
       "                             ...                        \n",
       "931    Marijuana Dispensary Medical Recreational, Mar...\n",
       "932    General Contracting Masonry, Selective Demo, G...\n",
       "933    Marijuana Dispensary Marijuana Dispensary, Onl...\n",
       "934    Medical and Medical Equipment and Supplies Med...\n",
       "935    HVAC Testing and Service Cleanroom Certificati...\n",
       "Name: Data_total_grams, Length: 936, dtype: object"
      ]
     },
     "execution_count": 183,
     "metadata": {},
     "output_type": "execute_result"
    }
   ],
   "source": [
    "df1['Data_total_grams']"
   ]
  },
  {
   "cell_type": "code",
   "execution_count": 210,
   "id": "adopted-permit",
   "metadata": {},
   "outputs": [],
   "source": [
    "def nonetype_remove(pdrow):\n",
    "    res = [i for i in pdrow if i]\n",
    "    return res\n",
    "  "
   ]
  },
  {
   "cell_type": "code",
   "execution_count": 214,
   "id": "amateur-string",
   "metadata": {},
   "outputs": [],
   "source": [
    "df1['Data_total_grams'] = df1['Data_total_grams'].apply(nonetype_remove )"
   ]
  },
  {
   "cell_type": "markdown",
   "id": "alpha-auction",
   "metadata": {},
   "source": [
    "df[df[\"col\"].str.len() != 0]"
   ]
  },
  {
   "cell_type": "code",
   "execution_count": 35,
   "id": "undefined-assumption",
   "metadata": {},
   "outputs": [],
   "source": [
    "#nltk.download('genesis')"
   ]
  },
  {
   "cell_type": "code",
   "execution_count": null,
   "id": "alleged-situation",
   "metadata": {},
   "outputs": [],
   "source": [
    "for grams in sixgrams:\n",
    "    print(grams)"
   ]
  },
  {
   "cell_type": "code",
   "execution_count": 201,
   "id": "grave-fifth",
   "metadata": {},
   "outputs": [],
   "source": [
    "#Alternative way to preserve data\n",
    "# change this to read in your data\n",
    "df1['Data_total_grams'] = data\n",
    "finder = BigramCollocationFinder.from_words(df1['Data_total_grams'][391].split())\n",
    "\n",
    "# only bigrams that appear 3+ times\n",
    "finder.apply_freq_filter(1)\n",
    "\n",
    "# return the 10 n-grams with the highest PMI\n",
    "list_oftuples = finder.nbest(bigram_measures.pmi, 15)[0:2]\n",
    "list_ofstrings = basic_cleanandcaptialize([\" \".join(x) for x in list_oftuples])\n"
   ]
  },
  {
   "cell_type": "code",
   "execution_count": 199,
   "id": "political-kitchen",
   "metadata": {},
   "outputs": [
    {
     "data": {
      "text/plain": [
       "['Building Operations', 'Facilities Maintenance']"
      ]
     },
     "execution_count": 199,
     "metadata": {},
     "output_type": "execute_result"
    }
   ],
   "source": [
    "basic_cleanandcaptialize(list_ofstrings)"
   ]
  },
  {
   "cell_type": "code",
   "execution_count": 217,
   "id": "unsigned-conservative",
   "metadata": {
    "scrolled": true
   },
   "outputs": [
    {
     "data": {
      "text/plain": [
       "'Systems/Data Integration Systems Integration, Data Integration, Outsourced IT, Technical Consulting, Strategic Consulting, SSIS, SQL, ETL, Micro-Services, Business Intelligence, Application Development, Platform Development,  Staffing, Hardware and Software Sales Administrative & Technical -- Information Technology -- Telecommunications'"
      ]
     },
     "execution_count": 217,
     "metadata": {},
     "output_type": "execute_result"
    }
   ],
   "source": [
    "data[300]"
   ]
  },
  {
   "cell_type": "code",
   "execution_count": 218,
   "id": "animal-minority",
   "metadata": {},
   "outputs": [
    {
     "data": {
      "text/plain": [
       "['Systemsdata Integration Systems Integration',\n",
       " 'Data Integration',\n",
       " 'Technical Consulting',\n",
       " 'Strategic Consulting',\n",
       " 'Business Intelligence',\n",
       " 'Application Development',\n",
       " 'Platform Development',\n",
       " ['Administrative Technical Information']]"
      ]
     },
     "execution_count": 218,
     "metadata": {},
     "output_type": "execute_result"
    }
   ],
   "source": [
    "df1['Data_total_grams'][300]"
   ]
  },
  {
   "cell_type": "code",
   "execution_count": 118,
   "id": "local-entry",
   "metadata": {},
   "outputs": [],
   "source": [
    "test_string = str(df1['Specific Function'][0]+\" \" + df1['Key Words'][0])"
   ]
  },
  {
   "cell_type": "code",
   "execution_count": 119,
   "id": "hungarian-pound",
   "metadata": {
    "scrolled": true
   },
   "outputs": [
    {
     "data": {
      "text/plain": [
       "'civil engineering design construction engineer engineering architect architecture surveyor surveying water system sewer system building renovation new building addition interior design landscape architecture backflow prevention pump station legionella control storm water management drainage system site design utility hydrology hydraulics retaining wall hydrographic survey topographic survey boundary survey control survey construction inspection construction oversight drafting road reconstruction structural underground storage tank fueling system hvac plumbing civil mechanical commissioning steam distribution boiler building information modeling bim air handling ventilation chiller data center laboratory welding gas gray water rainwater reclamation water system modeling water quality modeling nicet inspector'"
      ]
     },
     "execution_count": 119,
     "metadata": {},
     "output_type": "execute_result"
    }
   ],
   "source": [
    "test_string"
   ]
  },
  {
   "cell_type": "code",
   "execution_count": 82,
   "id": "classical-fluid",
   "metadata": {},
   "outputs": [],
   "source": [
    "#df1 = df1.drop(columns=['NYS Centralized Contract Titles'])"
   ]
  },
  {
   "cell_type": "code",
   "execution_count": 219,
   "id": "continuous-district",
   "metadata": {},
   "outputs": [
    {
     "data": {
      "text/plain": [
       "Counter({'Construction Professional Services': 21,\n",
       "         'Consulting & Other Services': 376,\n",
       "         'Construction': 201,\n",
       "         'Construction -- Construction Professional Services': 3,\n",
       "         'Construction -- Consulting & Other Services': 67,\n",
       "         'Commodities': 148,\n",
       "         'Commodities -- Consulting & Other Services': 66,\n",
       "         'Commodities -- Construction -- Consulting & Other Services': 9,\n",
       "         'Commodities -- Construction': 35,\n",
       "         'Commodities -- Construction Professional Services': 1,\n",
       "         'Commodities -- Construction Professional Services -- Consulting & Other Services': 2,\n",
       "         'Construction Professional Services -- Consulting & Other Services': 6,\n",
       "         'Construction -- Construction Professional Services -- Consulting & Other Services': 1})"
      ]
     },
     "execution_count": 219,
     "metadata": {},
     "output_type": "execute_result"
    }
   ],
   "source": [
    "Counter(df1['Classification'])"
   ]
  },
  {
   "cell_type": "code",
   "execution_count": 220,
   "id": "designing-token",
   "metadata": {},
   "outputs": [],
   "source": [
    "map_dict = { 'Construction Professional Services': 'Construction Consultants',\n",
    "         'Consulting & Other Services': 'Services Consultants',\n",
    "         'Construction': 'Construction',\n",
    "         'Construction -- Construction Professional Services': 'Construction',\n",
    "         'Construction -- Consulting & Other Services': 'Construction Consultants',\n",
    "         'Commodities': 'Commodities',\n",
    "         'Commodities -- Consulting & Other Services': 'Commodities',\n",
    "         'Commodities -- Construction -- Consulting & Other Services': 'Commodities',\n",
    "         'Commodities -- Construction': 'Commodities',\n",
    "         'Commodities -- Construction Professional Services': 'Commodities',\n",
    "         'Commodities -- Construction Professional Services -- Consulting & Other Services': 'Commodities',\n",
    "         'Construction Professional Services -- Consulting & Other Services': 'Construction Consultants',\n",
    "         'Construction -- Construction Professional Services -- Consulting & Other Services': 'Services Consultants'}"
   ]
  },
  {
   "cell_type": "code",
   "execution_count": 221,
   "id": "molecular-sheep",
   "metadata": {},
   "outputs": [],
   "source": [
    " df1 = df1.replace({'Classification': map_dict})"
   ]
  },
  {
   "cell_type": "code",
   "execution_count": 224,
   "id": "japanese-fever",
   "metadata": {},
   "outputs": [],
   "source": [
    "df1 = df1.drop(columns=['ControlNumber','NAICS Code(s)'])"
   ]
  },
  {
   "cell_type": "code",
   "execution_count": 293,
   "id": "mounted-mystery",
   "metadata": {},
   "outputs": [],
   "source": [
    "df1.to_csv(r'C:\\Users\\PARITOSHCHANDRASHEKH\\Desktop\\ToughLeaf\\TwoNewCleaned_SDVOB_Listing_01_15_2022.csv')"
   ]
  },
  {
   "cell_type": "markdown",
   "id": "auburn-nickname",
   "metadata": {},
   "source": [
    "# Explore and visualize the Featuredataset"
   ]
  },
  {
   "cell_type": "code",
   "execution_count": 89,
   "id": "treated-friendship",
   "metadata": {},
   "outputs": [],
   "source": [
    "def makelist_ofallstrings(pdrow):\n",
    "    \n",
    "    temp_list =[]\n",
    "    for i in range(len(pdrow)):\n",
    "        list_sep = (pdrow[i]).split(sep=',')\n",
    "        for j in list_sep:\n",
    "            temp_list.append(j)\n",
    "    temp_list = [x.strip() for x in temp_list ]\n",
    "    df_temp = pd.Series(temp_list )\n",
    "    df_temp = df_temp.astype(str)\n",
    "    df_temp = pd.DataFrame(df_temp)\n",
    "    df_temp = df_temp.rename(columns = {0: 'Feature Focus','index':'Frequency'})\n",
    "    df_temp = df_temp.dropna(axis=0)\n",
    "    return df_temp"
   ]
  },
  {
   "cell_type": "code",
   "execution_count": 92,
   "id": "bigger-screw",
   "metadata": {},
   "outputs": [],
   "source": [
    "def make_barplot(pdframe):\n",
    "    pdframe = pd.DataFrame.from_dict(\n",
    "        Counter(pdframe['Feature Focus']), orient='index').reset_index()\n",
    "    pdframe = pdframe.rename(columns = {'index': 'Feature Focus',0:'Frequency'})\n",
    "    pdframe = pdframe.dropna(axis=0)\n",
    "    pdframe= pdframe.sort_values(by = ['Frequency'],ascending=False)\n",
    "    sns.set_theme(style=\"whitegrid\")\n",
    "    ax = sns.barplot(x=\"Frequency\", y=\"Feature Focus\", data=pdframe.head(10))\n",
    "    return ax"
   ]
  },
  {
   "cell_type": "code",
   "execution_count": 93,
   "id": "worse-bridal",
   "metadata": {},
   "outputs": [
    {
     "data": {
      "text/plain": [
       "<AxesSubplot:xlabel='Frequency', ylabel='Feature Focus'>"
      ]
     },
     "execution_count": 93,
     "metadata": {},
     "output_type": "execute_result"
    },
    {
     "data": {
      "image/png": "[encoded data removed]",
      "text/plain": [
       "<Figure size 432x288 with 1 Axes>"
      ]
     },
     "metadata": {},
     "output_type": "display_data"
    }
   ],
   "source": [
    "make_barplot(makelist_ofallstrings(df1['Classification']))"
   ]
  },
  {
   "cell_type": "code",
   "execution_count": 94,
   "id": "downtown-evidence",
   "metadata": {},
   "outputs": [
    {
     "data": {
      "text/plain": [
       "<AxesSubplot:xlabel='Frequency', ylabel='Feature Focus'>"
      ]
     },
     "execution_count": 94,
     "metadata": {},
     "output_type": "execute_result"
    },
    {
     "data": {
      "image/png": "[encoded data removed]",
      "text/plain": [
       "<Figure size 432x288 with 1 Axes>"
      ]
     },
     "metadata": {},
     "output_type": "display_data"
    }
   ],
   "source": [
    "make_barplot(makelist_ofallstrings(df1['Key Words']))"
   ]
  },
  {
   "cell_type": "code",
   "execution_count": 95,
   "id": "subjective-butterfly",
   "metadata": {},
   "outputs": [
    {
     "data": {
      "text/plain": [
       "<AxesSubplot:xlabel='Frequency', ylabel='Feature Focus'>"
      ]
     },
     "execution_count": 95,
     "metadata": {},
     "output_type": "execute_result"
    },
    {
     "data": {
      "image/png": "[encoded data removed]",
      "text/plain": [
       "<Figure size 432x288 with 1 Axes>"
      ]
     },
     "metadata": {},
     "output_type": "display_data"
    }
   ],
   "source": [
    "make_barplot(makelist_ofallstrings(df1['Specific Function']))"
   ]
  },
  {
   "cell_type": "code",
   "execution_count": 96,
   "id": "industrial-marks",
   "metadata": {},
   "outputs": [
    {
     "data": {
      "text/plain": [
       "<AxesSubplot:xlabel='Frequency', ylabel='Feature Focus'>"
      ]
     },
     "execution_count": 96,
     "metadata": {},
     "output_type": "execute_result"
    },
    {
     "data": {
      "image/png": "[encoded data removed]",
      "text/plain": [
       "<Figure size 432x288 with 1 Axes>"
      ]
     },
     "metadata": {},
     "output_type": "display_data"
    }
   ],
   "source": [
    "make_barplot(makelist_ofallstrings(df1['Categories']))"
   ]
  },
  {
   "cell_type": "markdown",
   "id": "foreign-motivation",
   "metadata": {},
   "source": [
    "# Duplicate removal from master database"
   ]
  },
  {
   "cell_type": "code",
   "execution_count": 235,
   "id": "martial-washer",
   "metadata": {},
   "outputs": [],
   "source": [
    "df_master = pd.read_csv(r'C:\\Users\\PARITOSHCHANDRASHEKH\\Desktop\\ToughLeaf\\Master_18Jan22.csv')"
   ]
  },
  {
   "cell_type": "code",
   "execution_count": 294,
   "id": "ruled-judge",
   "metadata": {},
   "outputs": [],
   "source": [
    "df_slave = pd.read_csv(r'C:\\Users\\PARITOSHCHANDRASHEKH\\Desktop\\ToughLeaf\\TwoNewCleaned_SDVOB_Listing_01_15_2022.csv')"
   ]
  },
  {
   "cell_type": "code",
   "execution_count": 237,
   "id": "double-viking",
   "metadata": {
    "scrolled": true
   },
   "outputs": [
    {
     "data": {
      "text/plain": [
       "Index(['Id', 'CompanyName', 'DBAName', 'OwnerFirst', 'OwnerLast',\n",
       "       'PhysicalAddress', 'CityId', 'City', 'StateId', 'State', 'Zip',\n",
       "       'MailingAddress', 'City1', 'State1', 'Zip1', 'Phone', 'Fax', 'Email',\n",
       "       'Website', 'Agency', 'CertificationType', 'CertifiedDate', 'Capability',\n",
       "       'County', 'CommodityCodes', 'WorkRegions', 'Industry', 'IndustryId',\n",
       "       'BusinessSize', 'GeneralLocation', 'Location', 'Verified', 'HeadLine',\n",
       "       'About', 'WorkForce', 'NumberOfProjects', 'ABondingCapacity',\n",
       "       'SPBondingCapacity', 'BusinessSizeId', 'CompanyType', 'ContactPerson'],\n",
       "      dtype='object')"
      ]
     },
     "execution_count": 237,
     "metadata": {},
     "output_type": "execute_result"
    }
   ],
   "source": [
    "df_master.columns"
   ]
  },
  {
   "cell_type": "code",
   "execution_count": 239,
   "id": "democratic-margin",
   "metadata": {},
   "outputs": [
    {
     "data": {
      "text/plain": [
       "Index(['Unnamed: 0', 'Classification', 'Categories', 'About', 'Business Size',\n",
       "       'Counties Served', 'Business Name', 'Street', 'City', 'State', 'Zip',\n",
       "       'County Located', 'Home Region', 'Primary SDV Name',\n",
       "       'Contact Email Address', 'Phone Number', 'Business Webpage',\n",
       "       'Capablities'],\n",
       "      dtype='object')"
      ]
     },
     "execution_count": 239,
     "metadata": {},
     "output_type": "execute_result"
    }
   ],
   "source": [
    "df_slave.columns"
   ]
  },
  {
   "cell_type": "code",
   "execution_count": null,
   "id": "severe-harvest",
   "metadata": {},
   "outputs": [],
   "source": []
  },
  {
   "cell_type": "code",
   "execution_count": 285,
   "id": "fewer-render",
   "metadata": {},
   "outputs": [
    {
     "data": {
      "text/plain": [
       "(0              Tolman , Rex\n",
       " 1        Chamberlain , Dean\n",
       " 2           Graham , Joseph\n",
       " 3        LaMacchia , Joseph\n",
       " 4         Nordstrom , Oscar\n",
       "                ...         \n",
       " 931       Joseph , Kenny D.\n",
       " 932           Aulet  , Mark\n",
       " 933    Kask , Aleksander T.\n",
       " 934          Baek , Hyunwoo\n",
       " 935          Finn , Brenden\n",
       " Name: Primary SDV Name, Length: 936, dtype: object,\n",
       " 0      Tolman Engineering, Architecture, & Surveying,...\n",
       " 1                         Mischler Financial Group, Inc.\n",
       " 2                            Graham Restoration Co, Inc.\n",
       " 3                         Navaid Technical Services, LLC\n",
       " 4               Nordstrom Contracting & Consulting Corp.\n",
       "                              ...                        \n",
       " 931                        Brooklyn Cultivation Unit LLC\n",
       " 932                                 A-Vet Enterprise LLC\n",
       " 933                                     Bake Pharm, Inc.\n",
       " 934         Veteran Medical Equipment and Supplies, Inc.\n",
       " 935                                  Fathom Testing, LLC\n",
       " Name: Business Name, Length: 936, dtype: object)"
      ]
     },
     "execution_count": 285,
     "metadata": {},
     "output_type": "execute_result"
    }
   ],
   "source": [
    "df_slave['Primary SDV Name'], df_slave['Business Name']"
   ]
  },
  {
   "cell_type": "code",
   "execution_count": 245,
   "id": "statutory-furniture",
   "metadata": {},
   "outputs": [
    {
     "data": {
      "text/plain": [
       "(936, 18)"
      ]
     },
     "execution_count": 245,
     "metadata": {},
     "output_type": "execute_result"
    }
   ],
   "source": [
    "df_slave.shape"
   ]
  },
  {
   "cell_type": "code",
   "execution_count": 316,
   "id": "earlier-wallet",
   "metadata": {},
   "outputs": [],
   "source": [
    "df_slave = df_slave.rename(columns={'Phone Number':'Phone'})"
   ]
  },
  {
   "cell_type": "code",
   "execution_count": 241,
   "id": "suited-southwest",
   "metadata": {},
   "outputs": [
    {
     "data": {
      "text/plain": [
       "898"
      ]
     },
     "execution_count": 241,
     "metadata": {},
     "output_type": "execute_result"
    }
   ],
   "source": [
    "len(set(df_slave.Phone))"
   ]
  },
  {
   "cell_type": "code",
   "execution_count": 242,
   "id": "pregnant-agenda",
   "metadata": {},
   "outputs": [
    {
     "data": {
      "text/plain": [
       "895"
      ]
     },
     "execution_count": 242,
     "metadata": {},
     "output_type": "execute_result"
    }
   ],
   "source": [
    "len(set(df_slave['Primary SDV Name']))"
   ]
  },
  {
   "cell_type": "code",
   "execution_count": 272,
   "id": "religious-circulation",
   "metadata": {
    "code_folding": []
   },
   "outputs": [],
   "source": [
    "df_master2= (df_master.groupby(['Phone'])\n",
    "               .agg({ 'CertificationType' : lambda x: x.tolist(),\n",
    "                     'Industry' : lambda x: x.tolist(),\n",
    "                    'BusinessSize' : lambda x: x.tolist(),\n",
    "                     'Capability':lambda x: x.tolist(),\n",
    "                   'CompanyName':lambda x: x.tolist(),\n",
    "                    'OwnerFirst':lambda x: x.tolist(),\n",
    "                    'OwnerLast':lambda x: x.tolist()})\n",
    "               .reset_index())"
   ]
  },
  {
   "cell_type": "code",
   "execution_count": 301,
   "id": "unlimited-characterization",
   "metadata": {},
   "outputs": [
    {
     "data": {
      "text/html": [
       "<div>\n",
       "<style scoped>\n",
       "    .dataframe tbody tr th:only-of-type {\n",
       "        vertical-align: middle;\n",
       "    }\n",
       "\n",
       "    .dataframe tbody tr th {\n",
       "        vertical-align: top;\n",
       "    }\n",
       "\n",
       "    .dataframe thead th {\n",
       "        text-align: right;\n",
       "    }\n",
       "</style>\n",
       "<table border=\"1\" class=\"dataframe\">\n",
       "  <thead>\n",
       "    <tr style=\"text-align: right;\">\n",
       "      <th></th>\n",
       "      <th>Phone</th>\n",
       "      <th>CertificationType</th>\n",
       "      <th>Industry</th>\n",
       "      <th>BusinessSize</th>\n",
       "      <th>Capability</th>\n",
       "      <th>CompanyName</th>\n",
       "      <th>OwnerFirst</th>\n",
       "      <th>OwnerLast</th>\n",
       "    </tr>\n",
       "  </thead>\n",
       "  <tbody>\n",
       "    <tr>\n",
       "      <th>0</th>\n",
       "      <td>3103089145</td>\n",
       "      <td>[MBE]</td>\n",
       "      <td>[nan]</td>\n",
       "      <td>[nan]</td>\n",
       "      <td>[nan]</td>\n",
       "      <td>[BRIIDG Supply Co.]</td>\n",
       "      <td>[nan]</td>\n",
       "      <td>[nan]</td>\n",
       "    </tr>\n",
       "    <tr>\n",
       "      <th>1</th>\n",
       "      <td>3474690806</td>\n",
       "      <td>[MBE]</td>\n",
       "      <td>[Services Consultants]</td>\n",
       "      <td>[$100,000 - $499,000]</td>\n",
       "      <td>[Our Services include Office Cleaning Carpet c...</td>\n",
       "      <td>[1 Call Building Maintenance Corp]</td>\n",
       "      <td>[Lorris]</td>\n",
       "      <td>[Alleyne]</td>\n",
       "    </tr>\n",
       "    <tr>\n",
       "      <th>2</th>\n",
       "      <td>3476940830</td>\n",
       "      <td>[WBE]</td>\n",
       "      <td>[Construction Consultants]</td>\n",
       "      <td>[Over $5 million]</td>\n",
       "      <td>[Engineering Consulting, construction manageme...</td>\n",
       "      <td>[EnTech Engineering, P.C.]</td>\n",
       "      <td>[Soudabeh]</td>\n",
       "      <td>[Bayat]</td>\n",
       "    </tr>\n",
       "    <tr>\n",
       "      <th>3</th>\n",
       "      <td>3477097446</td>\n",
       "      <td>[MBE]</td>\n",
       "      <td>[Commodities]</td>\n",
       "      <td>[Less than $100,000]</td>\n",
       "      <td>[Genesis Signs &amp;amp; Graphics is a full servic...</td>\n",
       "      <td>[Genesis Signs &amp; Graphics]</td>\n",
       "      <td>[Sean]</td>\n",
       "      <td>[Phillips]</td>\n",
       "    </tr>\n",
       "    <tr>\n",
       "      <th>4</th>\n",
       "      <td>3478722702</td>\n",
       "      <td>[MBE,WBE]</td>\n",
       "      <td>[Services Consultants]</td>\n",
       "      <td>[$100,000 - $499,000]</td>\n",
       "      <td>[Laundry services, industrial]</td>\n",
       "      <td>[Gold Bull Vend, LLC]</td>\n",
       "      <td>[LaChena]</td>\n",
       "      <td>[Clark]</td>\n",
       "    </tr>\n",
       "    <tr>\n",
       "      <th>...</th>\n",
       "      <td>...</td>\n",
       "      <td>...</td>\n",
       "      <td>...</td>\n",
       "      <td>...</td>\n",
       "      <td>...</td>\n",
       "      <td>...</td>\n",
       "      <td>...</td>\n",
       "      <td>...</td>\n",
       "    </tr>\n",
       "    <tr>\n",
       "      <th>9817</th>\n",
       "      <td>9797780502</td>\n",
       "      <td>[WBE]</td>\n",
       "      <td>[Commodities]</td>\n",
       "      <td>[Over $5 million]</td>\n",
       "      <td>[Office Furniture Manufacturer (Except Wood)]</td>\n",
       "      <td>[Neutral Posture, Inc.]</td>\n",
       "      <td>[Rebecca]</td>\n",
       "      <td>[Boenigk]</td>\n",
       "    </tr>\n",
       "    <tr>\n",
       "      <th>9818</th>\n",
       "      <td>9802538319</td>\n",
       "      <td>[MBE]</td>\n",
       "      <td>[Construction Consultants]</td>\n",
       "      <td>[$100,000 - $499,000]</td>\n",
       "      <td>[Winstead Management Group is a provider of Pr...</td>\n",
       "      <td>[Winstead Management Group, LLC]</td>\n",
       "      <td>[Huron F.]</td>\n",
       "      <td>[Winstead]</td>\n",
       "    </tr>\n",
       "    <tr>\n",
       "      <th>9819</th>\n",
       "      <td>9807220878</td>\n",
       "      <td>[MBE]</td>\n",
       "      <td>[Construction Consultants]</td>\n",
       "      <td>[$500,000 - $999,999]</td>\n",
       "      <td>[Company able to provide construction and faci...</td>\n",
       "      <td>[BSL Galbreath Inc.]</td>\n",
       "      <td>[Artis]</td>\n",
       "      <td>[Galbreath]</td>\n",
       "    </tr>\n",
       "    <tr>\n",
       "      <th>9820</th>\n",
       "      <td>9809390094</td>\n",
       "      <td>[DBE]</td>\n",
       "      <td>[nan]</td>\n",
       "      <td>[nan]</td>\n",
       "      <td>[Consultant;; Building Information Modeling; C...</td>\n",
       "      <td>[BIMLOGIX,LLC]</td>\n",
       "      <td>[Melvin]</td>\n",
       "      <td>[Wallace]</td>\n",
       "    </tr>\n",
       "    <tr>\n",
       "      <th>9821</th>\n",
       "      <td>9856524324</td>\n",
       "      <td>[WBE]</td>\n",
       "      <td>[Services Consultants]</td>\n",
       "      <td>[$500,000 - $999,999]</td>\n",
       "      <td>[Public planning and administration, community...</td>\n",
       "      <td>[Bordelon, Foreman &amp; Associates, Inc.]</td>\n",
       "      <td>[Julie]</td>\n",
       "      <td>[Bordelon]</td>\n",
       "    </tr>\n",
       "  </tbody>\n",
       "</table>\n",
       "<p>9822 rows × 8 columns</p>\n",
       "</div>"
      ],
      "text/plain": [
       "           Phone CertificationType                    Industry  \\\n",
       "0     3103089145             [MBE]                       [nan]   \n",
       "1     3474690806             [MBE]      [Services Consultants]   \n",
       "2     3476940830             [WBE]  [Construction Consultants]   \n",
       "3     3477097446             [MBE]               [Commodities]   \n",
       "4     3478722702         [MBE,WBE]      [Services Consultants]   \n",
       "...          ...               ...                         ...   \n",
       "9817  9797780502             [WBE]               [Commodities]   \n",
       "9818  9802538319             [MBE]  [Construction Consultants]   \n",
       "9819  9807220878             [MBE]  [Construction Consultants]   \n",
       "9820  9809390094             [DBE]                       [nan]   \n",
       "9821  9856524324             [WBE]      [Services Consultants]   \n",
       "\n",
       "               BusinessSize  \\\n",
       "0                     [nan]   \n",
       "1     [$100,000 - $499,000]   \n",
       "2         [Over $5 million]   \n",
       "3      [Less than $100,000]   \n",
       "4     [$100,000 - $499,000]   \n",
       "...                     ...   \n",
       "9817      [Over $5 million]   \n",
       "9818  [$100,000 - $499,000]   \n",
       "9819  [$500,000 - $999,999]   \n",
       "9820                  [nan]   \n",
       "9821  [$500,000 - $999,999]   \n",
       "\n",
       "                                             Capability  \\\n",
       "0                                                 [nan]   \n",
       "1     [Our Services include Office Cleaning Carpet c...   \n",
       "2     [Engineering Consulting, construction manageme...   \n",
       "3     [Genesis Signs &amp; Graphics is a full servic...   \n",
       "4                        [Laundry services, industrial]   \n",
       "...                                                 ...   \n",
       "9817      [Office Furniture Manufacturer (Except Wood)]   \n",
       "9818  [Winstead Management Group is a provider of Pr...   \n",
       "9819  [Company able to provide construction and faci...   \n",
       "9820  [Consultant;; Building Information Modeling; C...   \n",
       "9821  [Public planning and administration, community...   \n",
       "\n",
       "                                 CompanyName  OwnerFirst    OwnerLast  \n",
       "0                        [BRIIDG Supply Co.]       [nan]        [nan]  \n",
       "1         [1 Call Building Maintenance Corp]    [Lorris]    [Alleyne]  \n",
       "2                 [EnTech Engineering, P.C.]  [Soudabeh]      [Bayat]  \n",
       "3                 [Genesis Signs & Graphics]      [Sean]   [Phillips]  \n",
       "4                      [Gold Bull Vend, LLC]   [LaChena]      [Clark]  \n",
       "...                                      ...         ...          ...  \n",
       "9817                 [Neutral Posture, Inc.]   [Rebecca]    [Boenigk]  \n",
       "9818        [Winstead Management Group, LLC]  [Huron F.]   [Winstead]  \n",
       "9819                    [BSL Galbreath Inc.]     [Artis]  [Galbreath]  \n",
       "9820                          [BIMLOGIX,LLC]    [Melvin]    [Wallace]  \n",
       "9821  [Bordelon, Foreman & Associates, Inc.]     [Julie]   [Bordelon]  \n",
       "\n",
       "[9822 rows x 8 columns]"
      ]
     },
     "execution_count": 301,
     "metadata": {},
     "output_type": "execute_result"
    }
   ],
   "source": [
    "df_master2"
   ]
  },
  {
   "cell_type": "code",
   "execution_count": 333,
   "id": "metropolitan-proposal",
   "metadata": {},
   "outputs": [],
   "source": [
    "df_slave2.Phone = df_slave2.Phone.apply(lambda x: ''.join([i for i in x if str.isnumeric(i)]))\n",
    "df_master2.Phone = df_master2.Phone.apply(lambda x: ''.join([i for i in x if str.isnumeric(i)]))"
   ]
  },
  {
   "cell_type": "code",
   "execution_count": 334,
   "id": "controversial-eligibility",
   "metadata": {},
   "outputs": [],
   "source": [
    "df_merge_try = pd.merge(df_slave2,df_master2,how='inner',on='Phone')"
   ]
  },
  {
   "cell_type": "code",
   "execution_count": 280,
   "id": "retired-links",
   "metadata": {},
   "outputs": [],
   "source": [
    "df_merge_try2 = pd.merge(df_slave2,df_master2,how='outer',on='Phone')"
   ]
  },
  {
   "cell_type": "code",
   "execution_count": 277,
   "id": "mighty-prospect",
   "metadata": {},
   "outputs": [],
   "source": [
    "df_merge_try.to_csv(r'C:\\Users\\PARITOSHCHANDRASHEKH\\Desktop\\ToughLeaf\\TwoNewMerged_SDVOB_Listing_01_15_2022.csv')"
   ]
  },
  {
   "cell_type": "code",
   "execution_count": 295,
   "id": "native-ceiling",
   "metadata": {},
   "outputs": [],
   "source": [
    " df_slave.drop_duplicates(subset =\"Business Name\",\n",
    "                     keep = False, inplace = True)"
   ]
  },
  {
   "cell_type": "code",
   "execution_count": 299,
   "id": "formal-clinic",
   "metadata": {},
   "outputs": [],
   "source": [
    " df_slave.drop_duplicates(subset =\"Phone\",\n",
    "                     keep = False, inplace = True)"
   ]
  },
  {
   "cell_type": "code",
   "execution_count": 336,
   "id": "greatest-desktop",
   "metadata": {
    "scrolled": false
   },
   "outputs": [],
   "source": [
    "df_merge_try.Index_True = df_merge_try.Index_True.apply(list_2_int)"
   ]
  },
  {
   "cell_type": "code",
   "execution_count": 309,
   "id": "valued-hartford",
   "metadata": {},
   "outputs": [],
   "source": [
    "df_slave['Certification Type'] = ['SDVOB']*len(df_slave.index)"
   ]
  },
  {
   "cell_type": "code",
   "execution_count": 311,
   "id": "literary-surfing",
   "metadata": {},
   "outputs": [],
   "source": [
    "df_slave = df_slave.drop(columns=['Newcat'])"
   ]
  },
  {
   "cell_type": "code",
   "execution_count": 313,
   "id": "better-tackle",
   "metadata": {},
   "outputs": [],
   "source": [
    "df_slave = df_slave.rename(columns={'Unnamed: 0':'Index_True'})"
   ]
  },
  {
   "cell_type": "code",
   "execution_count": 319,
   "id": "exciting-yesterday",
   "metadata": {},
   "outputs": [],
   "source": [
    "df_slave = df_slave.rename(columns={'Data_total_grams':'Capablities'})"
   ]
  },
  {
   "cell_type": "code",
   "execution_count": 329,
   "id": "exclusive-warehouse",
   "metadata": {},
   "outputs": [],
   "source": [
    "df_slave2 = (df_slave.groupby(['Phone'])\n",
    "               .agg({ 'Classification' : lambda x: x.tolist(),\n",
    "                     'Categories' : lambda x: x.tolist(),\n",
    "                    'Business Size' : lambda x: x.tolist(),\n",
    "                     'Capablities':lambda x: x.tolist() ,\n",
    "                     'Business Name':lambda x: x.tolist(),\n",
    "                     'Index_True':lambda x: x.tolist()\n",
    "                    })\n",
    "               .reset_index())"
   ]
  },
  {
   "cell_type": "code",
   "execution_count": 330,
   "id": "least-avatar",
   "metadata": {},
   "outputs": [],
   "source": [
    "for i in df_slave2.Index_True:\n",
    "    if len(i)==2:\n",
    "        print(i)"
   ]
  },
  {
   "cell_type": "code",
   "execution_count": 332,
   "id": "vital-haiti",
   "metadata": {},
   "outputs": [
    {
     "data": {
      "text/plain": [
       "Counter({1: 865})"
      ]
     },
     "execution_count": 332,
     "metadata": {},
     "output_type": "execute_result"
    }
   ],
   "source": [
    "Counter(len(x) for x in df_slave2.Index_True)"
   ]
  },
  {
   "cell_type": "code",
   "execution_count": 323,
   "id": "super-celtic",
   "metadata": {},
   "outputs": [],
   "source": [
    "def list_2_int(take_list):\n",
    "    strings = [str(integer) for integer in take_list]\n",
    "    a_string = \"\". join(strings)\n",
    "    an_integer = int(a_string)\n",
    "    return an_integer"
   ]
  },
  {
   "cell_type": "code",
   "execution_count": 337,
   "id": "cooked-exploration",
   "metadata": {},
   "outputs": [],
   "source": [
    "df_slave2.Index_True = df_slave2.Index_True.apply(list_2_int)"
   ]
  },
  {
   "cell_type": "code",
   "execution_count": 339,
   "id": "technical-heater",
   "metadata": {},
   "outputs": [],
   "source": [
    "df_final = pd.concat([df_slave2,df_merge_try],axis=0)"
   ]
  },
  {
   "cell_type": "code",
   "execution_count": 328,
   "id": "expensive-retailer",
   "metadata": {},
   "outputs": [],
   "source": [
    "for i in df_slave2.Index_True:\n",
    "    if len(str(i).split())==2:\n",
    "        print(i)"
   ]
  },
  {
   "cell_type": "code",
   "execution_count": 341,
   "id": "static-corrections",
   "metadata": {},
   "outputs": [],
   "source": [
    "df_final.drop_duplicates(subset =\"Phone\",\n",
    "                     keep = False, inplace = True)"
   ]
  },
  {
   "cell_type": "code",
   "execution_count": 345,
   "id": "emerging-workshop",
   "metadata": {},
   "outputs": [
    {
     "data": {
      "text/plain": [
       "814"
      ]
     },
     "execution_count": 345,
     "metadata": {},
     "output_type": "execute_result"
    }
   ],
   "source": [
    "len(set(df_final.Index_True))"
   ]
  },
  {
   "cell_type": "code",
   "execution_count": 352,
   "id": "opponent-danish",
   "metadata": {},
   "outputs": [
    {
     "data": {
      "text/plain": [
       "numpy.int64"
      ]
     },
     "execution_count": 352,
     "metadata": {},
     "output_type": "execute_result"
    }
   ],
   "source": [
    "type(df_final.Index_True[0])"
   ]
  },
  {
   "cell_type": "code",
   "execution_count": 372,
   "id": "compliant-combination",
   "metadata": {},
   "outputs": [],
   "source": [
    "list_new = list(df_final.Index_True)"
   ]
  },
  {
   "cell_type": "code",
   "execution_count": 374,
   "id": "departmental-serial",
   "metadata": {},
   "outputs": [],
   "source": [
    "list_new.sort()"
   ]
  },
  {
   "cell_type": "code",
   "execution_count": 376,
   "id": "deluxe-pattern",
   "metadata": {},
   "outputs": [
    {
     "data": {
      "text/plain": [
       "814"
      ]
     },
     "execution_count": 376,
     "metadata": {},
     "output_type": "execute_result"
    }
   ],
   "source": [
    "len(set(list_new))"
   ]
  },
  {
   "cell_type": "code",
   "execution_count": 379,
   "id": "sudden-visibility",
   "metadata": {},
   "outputs": [],
   "source": [
    "df_slave_merge = df_slave.loc[list_new]"
   ]
  },
  {
   "cell_type": "code",
   "execution_count": 384,
   "id": "velvet-static",
   "metadata": {},
   "outputs": [],
   "source": [
    "total_pd2 = pd.concat([df_master,df_slave],axis=0)"
   ]
  },
  {
   "cell_type": "code",
   "execution_count": 386,
   "id": "endangered-fifteen",
   "metadata": {},
   "outputs": [],
   "source": [
    "total_pd2.to_csv(r'C:\\Users\\PARITOSHCHANDRASHEKH\\Desktop\\ToughLeaf\\Companies.csv')"
   ]
  },
  {
   "cell_type": "code",
   "execution_count": 382,
   "id": "spoken-validation",
   "metadata": {},
   "outputs": [
    {
     "data": {
      "text/html": [
       "<div>\n",
       "<style scoped>\n",
       "    .dataframe tbody tr th:only-of-type {\n",
       "        vertical-align: middle;\n",
       "    }\n",
       "\n",
       "    .dataframe tbody tr th {\n",
       "        vertical-align: top;\n",
       "    }\n",
       "\n",
       "    .dataframe thead th {\n",
       "        text-align: right;\n",
       "    }\n",
       "</style>\n",
       "<table border=\"1\" class=\"dataframe\">\n",
       "  <thead>\n",
       "    <tr style=\"text-align: right;\">\n",
       "      <th></th>\n",
       "      <th>Index_True</th>\n",
       "      <th>Classification</th>\n",
       "      <th>Categories</th>\n",
       "      <th>About</th>\n",
       "      <th>Key Words</th>\n",
       "      <th>Business Size</th>\n",
       "      <th>Counties Served</th>\n",
       "      <th>Business Name</th>\n",
       "      <th>NYS Vendor ID Number</th>\n",
       "      <th>Street</th>\n",
       "      <th>...</th>\n",
       "      <th>Location</th>\n",
       "      <th>Verified</th>\n",
       "      <th>HeadLine</th>\n",
       "      <th>WorkForce</th>\n",
       "      <th>NumberOfProjects</th>\n",
       "      <th>ABondingCapacity</th>\n",
       "      <th>SPBondingCapacity</th>\n",
       "      <th>BusinessSizeId</th>\n",
       "      <th>CompanyType</th>\n",
       "      <th>ContactPerson</th>\n",
       "    </tr>\n",
       "  </thead>\n",
       "  <tbody>\n",
       "    <tr>\n",
       "      <th>0</th>\n",
       "      <td>0.0</td>\n",
       "      <td>Construction Consultants</td>\n",
       "      <td>Architectural, Engineering &amp; Surveying -- Envi...</td>\n",
       "      <td>Civil Engineering - Design and Construction</td>\n",
       "      <td>Engineer, Engineering, Architect, Architecture...</td>\n",
       "      <td>$1,000,000 - $4,999,999</td>\n",
       "      <td>statewide</td>\n",
       "      <td>Tolman Engineering, Architecture, &amp; Surveying,...</td>\n",
       "      <td>1.100125e+09</td>\n",
       "      <td>3610 Lawson Road</td>\n",
       "      <td>...</td>\n",
       "      <td>NaN</td>\n",
       "      <td>NaN</td>\n",
       "      <td>NaN</td>\n",
       "      <td>NaN</td>\n",
       "      <td>NaN</td>\n",
       "      <td>NaN</td>\n",
       "      <td>NaN</td>\n",
       "      <td>NaN</td>\n",
       "      <td>NaN</td>\n",
       "      <td>NaN</td>\n",
       "    </tr>\n",
       "    <tr>\n",
       "      <th>1</th>\n",
       "      <td>1.0</td>\n",
       "      <td>Services Consultants</td>\n",
       "      <td>Financial</td>\n",
       "      <td>Investment Banking, Broker Dealer</td>\n",
       "      <td>Investments, Financial Advisor, Broker Dealer,...</td>\n",
       "      <td>Over $5,000,000</td>\n",
       "      <td>statewide</td>\n",
       "      <td>Mischler Financial Group, Inc.</td>\n",
       "      <td>1.100138e+09</td>\n",
       "      <td>1111 Bayside Drive Suite 100</td>\n",
       "      <td>...</td>\n",
       "      <td>NaN</td>\n",
       "      <td>NaN</td>\n",
       "      <td>NaN</td>\n",
       "      <td>NaN</td>\n",
       "      <td>NaN</td>\n",
       "      <td>NaN</td>\n",
       "      <td>NaN</td>\n",
       "      <td>NaN</td>\n",
       "      <td>NaN</td>\n",
       "      <td>NaN</td>\n",
       "    </tr>\n",
       "    <tr>\n",
       "      <th>2</th>\n",
       "      <td>2.0</td>\n",
       "      <td>Construction</td>\n",
       "      <td>Construction Vertical: Building Construction; ...</td>\n",
       "      <td>Roofing, Exterior, and Interior</td>\n",
       "      <td>Roofing, Masonry, Waterproofing, Concrete, Bui...</td>\n",
       "      <td>$500,000 - $999,999</td>\n",
       "      <td>Bronx -- Kings -- Nassau -- Queens -- Richmond...</td>\n",
       "      <td>Graham Restoration Co, Inc.</td>\n",
       "      <td>1.100135e+09</td>\n",
       "      <td>59-45 56 Ave.</td>\n",
       "      <td>...</td>\n",
       "      <td>NaN</td>\n",
       "      <td>NaN</td>\n",
       "      <td>NaN</td>\n",
       "      <td>NaN</td>\n",
       "      <td>NaN</td>\n",
       "      <td>NaN</td>\n",
       "      <td>NaN</td>\n",
       "      <td>NaN</td>\n",
       "      <td>NaN</td>\n",
       "      <td>NaN</td>\n",
       "    </tr>\n",
       "    <tr>\n",
       "      <th>3</th>\n",
       "      <td>3.0</td>\n",
       "      <td>Services Consultants</td>\n",
       "      <td>Administrative &amp; Technical -- Information Tech...</td>\n",
       "      <td>Integrated Support Solutions</td>\n",
       "      <td>Logistics, Consulting, Engineering Services, M...</td>\n",
       "      <td>$100,000 - $499,999</td>\n",
       "      <td>statewide</td>\n",
       "      <td>Navaid Technical Services, LLC</td>\n",
       "      <td>1.100137e+09</td>\n",
       "      <td>12457 Fitzroy Street</td>\n",
       "      <td>...</td>\n",
       "      <td>NaN</td>\n",
       "      <td>NaN</td>\n",
       "      <td>NaN</td>\n",
       "      <td>NaN</td>\n",
       "      <td>NaN</td>\n",
       "      <td>NaN</td>\n",
       "      <td>NaN</td>\n",
       "      <td>NaN</td>\n",
       "      <td>NaN</td>\n",
       "      <td>NaN</td>\n",
       "    </tr>\n",
       "    <tr>\n",
       "      <th>4</th>\n",
       "      <td>4.0</td>\n",
       "      <td>Construction</td>\n",
       "      <td>Construction Vertical: Building Construction; ...</td>\n",
       "      <td>General Contractor</td>\n",
       "      <td>General Contractor, Rough Carpentry, Finish Ca...</td>\n",
       "      <td>$1,000,000 - $4,999,999</td>\n",
       "      <td>Bronx -- Dutchess -- New York -- Orange -- Roc...</td>\n",
       "      <td>Nordstrom Contracting &amp; Consulting Corp.</td>\n",
       "      <td>1.100113e+09</td>\n",
       "      <td>36 Theills Mt. Ivy Road</td>\n",
       "      <td>...</td>\n",
       "      <td>NaN</td>\n",
       "      <td>NaN</td>\n",
       "      <td>NaN</td>\n",
       "      <td>NaN</td>\n",
       "      <td>NaN</td>\n",
       "      <td>NaN</td>\n",
       "      <td>NaN</td>\n",
       "      <td>NaN</td>\n",
       "      <td>NaN</td>\n",
       "      <td>NaN</td>\n",
       "    </tr>\n",
       "    <tr>\n",
       "      <th>...</th>\n",
       "      <td>...</td>\n",
       "      <td>...</td>\n",
       "      <td>...</td>\n",
       "      <td>...</td>\n",
       "      <td>...</td>\n",
       "      <td>...</td>\n",
       "      <td>...</td>\n",
       "      <td>...</td>\n",
       "      <td>...</td>\n",
       "      <td>...</td>\n",
       "      <td>...</td>\n",
       "      <td>...</td>\n",
       "      <td>...</td>\n",
       "      <td>...</td>\n",
       "      <td>...</td>\n",
       "      <td>...</td>\n",
       "      <td>...</td>\n",
       "      <td>...</td>\n",
       "      <td>...</td>\n",
       "      <td>...</td>\n",
       "      <td>...</td>\n",
       "    </tr>\n",
       "    <tr>\n",
       "      <th>10061</th>\n",
       "      <td>NaN</td>\n",
       "      <td>NaN</td>\n",
       "      <td>NaN</td>\n",
       "      <td>NaN</td>\n",
       "      <td>NaN</td>\n",
       "      <td>NaN</td>\n",
       "      <td>NaN</td>\n",
       "      <td>NaN</td>\n",
       "      <td>NaN</td>\n",
       "      <td>NaN</td>\n",
       "      <td>...</td>\n",
       "      <td>NaN</td>\n",
       "      <td>1.0</td>\n",
       "      <td>NaN</td>\n",
       "      <td>NaN</td>\n",
       "      <td>NaN</td>\n",
       "      <td>NaN</td>\n",
       "      <td>NaN</td>\n",
       "      <td>18.0</td>\n",
       "      <td>3.0</td>\n",
       "      <td>Yolanda Sullivan</td>\n",
       "    </tr>\n",
       "    <tr>\n",
       "      <th>10062</th>\n",
       "      <td>NaN</td>\n",
       "      <td>NaN</td>\n",
       "      <td>NaN</td>\n",
       "      <td>NaN</td>\n",
       "      <td>NaN</td>\n",
       "      <td>NaN</td>\n",
       "      <td>NaN</td>\n",
       "      <td>NaN</td>\n",
       "      <td>NaN</td>\n",
       "      <td>NaN</td>\n",
       "      <td>...</td>\n",
       "      <td>NaN</td>\n",
       "      <td>1.0</td>\n",
       "      <td>NaN</td>\n",
       "      <td>NaN</td>\n",
       "      <td>NaN</td>\n",
       "      <td>NaN</td>\n",
       "      <td>NaN</td>\n",
       "      <td>NaN</td>\n",
       "      <td>1.0</td>\n",
       "      <td>Wissam Akra</td>\n",
       "    </tr>\n",
       "    <tr>\n",
       "      <th>10063</th>\n",
       "      <td>NaN</td>\n",
       "      <td>NaN</td>\n",
       "      <td>NaN</td>\n",
       "      <td>NaN</td>\n",
       "      <td>NaN</td>\n",
       "      <td>NaN</td>\n",
       "      <td>NaN</td>\n",
       "      <td>NaN</td>\n",
       "      <td>NaN</td>\n",
       "      <td>NaN</td>\n",
       "      <td>...</td>\n",
       "      <td>NaN</td>\n",
       "      <td>0.0</td>\n",
       "      <td>NaN</td>\n",
       "      <td>NaN</td>\n",
       "      <td>NaN</td>\n",
       "      <td>NaN</td>\n",
       "      <td>NaN</td>\n",
       "      <td>NaN</td>\n",
       "      <td>1.0</td>\n",
       "      <td>Wissam Akra</td>\n",
       "    </tr>\n",
       "    <tr>\n",
       "      <th>10064</th>\n",
       "      <td>NaN</td>\n",
       "      <td>NaN</td>\n",
       "      <td>NaN</td>\n",
       "      <td>NaN</td>\n",
       "      <td>NaN</td>\n",
       "      <td>NaN</td>\n",
       "      <td>NaN</td>\n",
       "      <td>NaN</td>\n",
       "      <td>NaN</td>\n",
       "      <td>NaN</td>\n",
       "      <td>...</td>\n",
       "      <td>NaN</td>\n",
       "      <td>1.0</td>\n",
       "      <td>NaN</td>\n",
       "      <td>NaN</td>\n",
       "      <td>NaN</td>\n",
       "      <td>NaN</td>\n",
       "      <td>NaN</td>\n",
       "      <td>NaN</td>\n",
       "      <td>3.0</td>\n",
       "      <td>LJ Finney</td>\n",
       "    </tr>\n",
       "    <tr>\n",
       "      <th>10065</th>\n",
       "      <td>NaN</td>\n",
       "      <td>NaN</td>\n",
       "      <td>NaN</td>\n",
       "      <td>NaN</td>\n",
       "      <td>NaN</td>\n",
       "      <td>NaN</td>\n",
       "      <td>NaN</td>\n",
       "      <td>NaN</td>\n",
       "      <td>NaN</td>\n",
       "      <td>NaN</td>\n",
       "      <td>...</td>\n",
       "      <td>NaN</td>\n",
       "      <td>0.0</td>\n",
       "      <td>NaN</td>\n",
       "      <td>NaN</td>\n",
       "      <td>NaN</td>\n",
       "      <td>NaN</td>\n",
       "      <td>NaN</td>\n",
       "      <td>15.0</td>\n",
       "      <td>NaN</td>\n",
       "      <td>Danielle Smerina</td>\n",
       "    </tr>\n",
       "  </tbody>\n",
       "</table>\n",
       "<p>10880 rows × 57 columns</p>\n",
       "</div>"
      ],
      "text/plain": [
       "       Index_True            Classification  \\\n",
       "0             0.0  Construction Consultants   \n",
       "1             1.0      Services Consultants   \n",
       "2             2.0              Construction   \n",
       "3             3.0      Services Consultants   \n",
       "4             4.0              Construction   \n",
       "...           ...                       ...   \n",
       "10061         NaN                       NaN   \n",
       "10062         NaN                       NaN   \n",
       "10063         NaN                       NaN   \n",
       "10064         NaN                       NaN   \n",
       "10065         NaN                       NaN   \n",
       "\n",
       "                                              Categories  \\\n",
       "0      Architectural, Engineering & Surveying -- Envi...   \n",
       "1                                              Financial   \n",
       "2      Construction Vertical: Building Construction; ...   \n",
       "3      Administrative & Technical -- Information Tech...   \n",
       "4      Construction Vertical: Building Construction; ...   \n",
       "...                                                  ...   \n",
       "10061                                                NaN   \n",
       "10062                                                NaN   \n",
       "10063                                                NaN   \n",
       "10064                                                NaN   \n",
       "10065                                                NaN   \n",
       "\n",
       "                                             About  \\\n",
       "0      Civil Engineering - Design and Construction   \n",
       "1                Investment Banking, Broker Dealer   \n",
       "2                  Roofing, Exterior, and Interior   \n",
       "3                     Integrated Support Solutions   \n",
       "4                               General Contractor   \n",
       "...                                            ...   \n",
       "10061                                          NaN   \n",
       "10062                                          NaN   \n",
       "10063                                          NaN   \n",
       "10064                                          NaN   \n",
       "10065                                          NaN   \n",
       "\n",
       "                                               Key Words  \\\n",
       "0      Engineer, Engineering, Architect, Architecture...   \n",
       "1      Investments, Financial Advisor, Broker Dealer,...   \n",
       "2      Roofing, Masonry, Waterproofing, Concrete, Bui...   \n",
       "3      Logistics, Consulting, Engineering Services, M...   \n",
       "4      General Contractor, Rough Carpentry, Finish Ca...   \n",
       "...                                                  ...   \n",
       "10061                                                NaN   \n",
       "10062                                                NaN   \n",
       "10063                                                NaN   \n",
       "10064                                                NaN   \n",
       "10065                                                NaN   \n",
       "\n",
       "                 Business Size  \\\n",
       "0      $1,000,000 - $4,999,999   \n",
       "1              Over $5,000,000   \n",
       "2          $500,000 - $999,999   \n",
       "3          $100,000 - $499,999   \n",
       "4      $1,000,000 - $4,999,999   \n",
       "...                        ...   \n",
       "10061                      NaN   \n",
       "10062                      NaN   \n",
       "10063                      NaN   \n",
       "10064                      NaN   \n",
       "10065                      NaN   \n",
       "\n",
       "                                         Counties Served  \\\n",
       "0                                              statewide   \n",
       "1                                              statewide   \n",
       "2      Bronx -- Kings -- Nassau -- Queens -- Richmond...   \n",
       "3                                              statewide   \n",
       "4      Bronx -- Dutchess -- New York -- Orange -- Roc...   \n",
       "...                                                  ...   \n",
       "10061                                                NaN   \n",
       "10062                                                NaN   \n",
       "10063                                                NaN   \n",
       "10064                                                NaN   \n",
       "10065                                                NaN   \n",
       "\n",
       "                                           Business Name  \\\n",
       "0      Tolman Engineering, Architecture, & Surveying,...   \n",
       "1                         Mischler Financial Group, Inc.   \n",
       "2                            Graham Restoration Co, Inc.   \n",
       "3                         Navaid Technical Services, LLC   \n",
       "4               Nordstrom Contracting & Consulting Corp.   \n",
       "...                                                  ...   \n",
       "10061                                                NaN   \n",
       "10062                                                NaN   \n",
       "10063                                                NaN   \n",
       "10064                                                NaN   \n",
       "10065                                                NaN   \n",
       "\n",
       "       NYS Vendor ID Number                        Street  ... Location  \\\n",
       "0              1.100125e+09              3610 Lawson Road  ...      NaN   \n",
       "1              1.100138e+09  1111 Bayside Drive Suite 100  ...      NaN   \n",
       "2              1.100135e+09                 59-45 56 Ave.  ...      NaN   \n",
       "3              1.100137e+09          12457 Fitzroy Street  ...      NaN   \n",
       "4              1.100113e+09       36 Theills Mt. Ivy Road  ...      NaN   \n",
       "...                     ...                           ...  ...      ...   \n",
       "10061                   NaN                           NaN  ...      NaN   \n",
       "10062                   NaN                           NaN  ...      NaN   \n",
       "10063                   NaN                           NaN  ...      NaN   \n",
       "10064                   NaN                           NaN  ...      NaN   \n",
       "10065                   NaN                           NaN  ...      NaN   \n",
       "\n",
       "      Verified HeadLine WorkForce NumberOfProjects ABondingCapacity  \\\n",
       "0          NaN      NaN       NaN              NaN              NaN   \n",
       "1          NaN      NaN       NaN              NaN              NaN   \n",
       "2          NaN      NaN       NaN              NaN              NaN   \n",
       "3          NaN      NaN       NaN              NaN              NaN   \n",
       "4          NaN      NaN       NaN              NaN              NaN   \n",
       "...        ...      ...       ...              ...              ...   \n",
       "10061      1.0      NaN       NaN              NaN              NaN   \n",
       "10062      1.0      NaN       NaN              NaN              NaN   \n",
       "10063      0.0      NaN       NaN              NaN              NaN   \n",
       "10064      1.0      NaN       NaN              NaN              NaN   \n",
       "10065      0.0      NaN       NaN              NaN              NaN   \n",
       "\n",
       "      SPBondingCapacity BusinessSizeId CompanyType     ContactPerson  \n",
       "0                   NaN            NaN         NaN               NaN  \n",
       "1                   NaN            NaN         NaN               NaN  \n",
       "2                   NaN            NaN         NaN               NaN  \n",
       "3                   NaN            NaN         NaN               NaN  \n",
       "4                   NaN            NaN         NaN               NaN  \n",
       "...                 ...            ...         ...               ...  \n",
       "10061               NaN           18.0         3.0  Yolanda Sullivan  \n",
       "10062               NaN            NaN         1.0       Wissam Akra  \n",
       "10063               NaN            NaN         1.0       Wissam Akra  \n",
       "10064               NaN            NaN         3.0         LJ Finney  \n",
       "10065               NaN           15.0         NaN  Danielle Smerina  \n",
       "\n",
       "[10880 rows x 57 columns]"
      ]
     },
     "execution_count": 382,
     "metadata": {},
     "output_type": "execute_result"
    }
   ],
   "source": [
    "total_pd"
   ]
  },
  {
   "cell_type": "code",
   "execution_count": 38,
   "id": "disturbed-apparatus",
   "metadata": {
    "code_folding": []
   },
   "outputs": [
    {
     "data": {
      "text/plain": [
       "'\\nfor i in range(len(df_slave.Phone)):\\n    for j in df_merge_try.Phone:\\n        if df_slave.Phone[i] == j:\\n            df_slave.drop(dfObj.index[i])\\n        #i+=1 '"
      ]
     },
     "execution_count": 38,
     "metadata": {},
     "output_type": "execute_result"
    }
   ],
   "source": [
    "\"\"\"\n",
    "for i in range(len(df_slave.Phone)):\n",
    "    for j in df_merge_try.Phone:\n",
    "        if df_slave.Phone[i] == j:\n",
    "            df_slave.drop(dfObj.index[i])\n",
    "        #i+=1 \"\"\""
   ]
  },
  {
   "cell_type": "code",
   "execution_count": 40,
   "id": "economic-compensation",
   "metadata": {},
   "outputs": [
    {
     "data": {
      "application/javascript": [
       "window.require && require([\"base/js/namespace\"],function(Jupyter){Jupyter.notebook.save_checkpoint()})"
      ],
      "text/plain": [
       "<IPython.core.display.Javascript object>"
      ]
     },
     "metadata": {},
     "output_type": "display_data"
    },
    {
     "name": "stdout",
     "output_type": "stream",
     "text": [
      "[jovian] Committed successfully! https://jovian.ai/paritoshk/finalpipelinefortotaldatabaseexplore\u001b[0m\r\n"
     ]
    },
    {
     "data": {
      "text/plain": [
       "'https://jovian.ai/paritoshk/finalpipelinefortotaldatabaseexplore'"
      ]
     },
     "execution_count": 40,
     "metadata": {},
     "output_type": "execute_result"
    }
   ],
   "source": [
    "import jovian\n",
    "jovian.commit()"
   ]
  },
  {
   "cell_type": "code",
   "execution_count": null,
   "id": "under-variation",
   "metadata": {},
   "outputs": [],
   "source": []
  }
 ],
 "metadata": {
  "kernelspec": {
   "display_name": "Python 3 (ipykernel)",
   "language": "python",
   "name": "python3"
  },
  "language_info": {
   "codemirror_mode": {
    "name": "ipython",
    "version": 3
   },
   "file_extension": ".py",
   "mimetype": "text/x-python",
   "name": "python",
   "nbconvert_exporter": "python",
   "pygments_lexer": "ipython3",
   "version": "3.9.7"
  },
  "latex_envs": {
   "LaTeX_envs_menu_present": true,
   "autoclose": false,
   "autocomplete": true,
   "bibliofile": "biblio.bib",
   "cite_by": "apalike",
   "current_citInitial": 1,
   "eqLabelWithNumbers": true,
   "eqNumInitial": 1,
   "hotkeys": {
    "equation": "Ctrl-E",
    "itemize": "Ctrl-I"
   },
   "labels_anchors": false,
   "latex_user_defs": false,
   "report_style_numbering": false,
   "user_envs_cfg": false
  },
  "toc": {
   "base_numbering": 1,
   "nav_menu": {},
   "number_sections": true,
   "sideBar": true,
   "skip_h1_title": false,
   "title_cell": "Table of Contents",
   "title_sidebar": "Contents",
   "toc_cell": false,
   "toc_position": {},
   "toc_section_display": true,
   "toc_window_display": false
  }
 },
 "nbformat": 4,
 "nbformat_minor": 5
}
